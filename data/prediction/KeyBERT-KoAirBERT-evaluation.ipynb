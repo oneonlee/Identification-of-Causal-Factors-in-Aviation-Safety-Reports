{
 "cells": [
  {
   "cell_type": "code",
   "execution_count": 1,
   "id": "f2b8077a-b8c7-4f29-8a69-e4ffa8aae761",
   "metadata": {},
   "outputs": [],
   "source": [
    "import os\n",
    "import sys\n",
    "module_path = \"..\"\n",
    "sys.path.append(module_path)\n",
    "\n",
    "from dataset_preprocessing import make_keyphrase_dataset, make_bio_tagged_dataset"
   ]
  },
  {
   "cell_type": "code",
   "execution_count": 2,
   "id": "07b6d651-c726-4652-825c-b67a2a29c0d4",
   "metadata": {},
   "outputs": [],
   "source": [
    "from tqdm import tqdm\n",
    "import re\n",
    "import pandas as pd\n",
    "from sklearn.metrics import f1_score, precision_score, recall_score, classification_report, fbeta_score"
   ]
  },
  {
   "cell_type": "code",
   "execution_count": 3,
   "id": "707d74e1-2c80-4c6e-a6d4-b158b2770795",
   "metadata": {},
   "outputs": [],
   "source": [
    "MODEL_NAME = \"KeyBERT\""
   ]
  },
  {
   "cell_type": "code",
   "execution_count": 4,
   "id": "6cf96611-ded3-43c7-9d03-65fa79c7bfa3",
   "metadata": {},
   "outputs": [],
   "source": [
    "def process_doc(doc):\n",
    "    processed_doc = doc.strip('\"').replace(\"\\n\", \" \").strip()\n",
    "    processed_doc = re.sub('\\s+', ' ', processed_doc)\n",
    "    \n",
    "    return processed_doc\n",
    "\n",
    "def process_label(text):\n",
    "    processed_text = text.strip('\"').replace(\"\\n\", \" \").strip()\n",
    "    processed_text = re.sub('\\s+', ' ', processed_text)\n",
    "\n",
    "    return processed_text"
   ]
  },
  {
   "cell_type": "code",
   "execution_count": 5,
   "id": "a5b348f8-5a2d-461d-9dee-718c2704de67",
   "metadata": {},
   "outputs": [],
   "source": [
    "prediction = pd.read_csv(f\"{MODEL_NAME}-KoAirBERT.csv\")"
   ]
  },
  {
   "cell_type": "code",
   "execution_count": 6,
   "id": "726d0566-aff0-44fe-8296-a8b7db730542",
   "metadata": {},
   "outputs": [],
   "source": [
    "documents = prediction[\"본문\"]\n",
    "gold_standards = prediction[\"원인 키워드\"]\n",
    "model_predictions = prediction[f\"{MODEL_NAME} 예측 키워드\"]"
   ]
  },
  {
   "cell_type": "code",
   "execution_count": 7,
   "id": "9c054686-8eeb-4419-9b84-dd766fdccfa8",
   "metadata": {},
   "outputs": [],
   "source": [
    "for i in range(len(prediction)):\n",
    "    prediction[\"원인 키워드\"][i] = prediction[\"원인 키워드\"][i]"
   ]
  },
  {
   "cell_type": "code",
   "execution_count": 8,
   "id": "fd2dce16-96fe-422b-94b5-9f71683d9af4",
   "metadata": {},
   "outputs": [
    {
     "data": {
      "text/plain": [
       "0      \"경우에는 최종 확인을 한 후 진입을 했어야 하나,\", \"수도공항에서 출발을 위해 ...\n",
       "1      \"ΟΟΟ 항공기가 Push-back하여 이륙을 위해 지상 활주 중 속도지시계 이상으...\n",
       "2                         \"수 있다고\", \"바쁜\", \"위와\", \"CG\", \"후\"\n",
       "3      \"readback 내용을 주의 깊게 경청하지 않는다면\", \"구별이 쉽지 않았고, 또...\n",
       "4      \"기압값을 설정하지 않아 지시된 12,000ft를 순간 적으로 (1~2초, 약\", ...\n",
       "                             ...                        \n",
       "214                          \"더\", \"맞다고\", \"역시\", \"TO\", \"후\"\n",
       "215    \"'IGEDA'에서 NEXT WPT 인 'NF'으로 비행 중임을 설명하자\", \"En...\n",
       "216    \"활성화되어 있어 Autopilot을 해제했고 경고\", \"해보기로 했다. 여러 번 ...\n",
       "217    \"연료도\", \"알려주면서 연료는 2,800lbs가 추가로 소요된다고 하였다.\", \"...\n",
       "218                    \"들을 수\", \"분명히 정면\", \"때\", \"최초\", \"제주\"\n",
       "Name: KeyBERT 예측 키워드, Length: 219, dtype: object"
      ]
     },
     "execution_count": 8,
     "metadata": {},
     "output_type": "execute_result"
    }
   ],
   "source": [
    "model_predictions"
   ]
  },
  {
   "cell_type": "code",
   "execution_count": 9,
   "id": "9e10e7e4-abf6-4a70-8cdf-785c08f56e8e",
   "metadata": {},
   "outputs": [
    {
     "data": {
      "text/plain": [
       "['Z3를 F로 잘못 인지하여', '최종 확인을 한 후 진입을 했어야 하나, 확인 미흡', '승무원 상호 간 CRM 부족']"
      ]
     },
     "execution_count": 9,
     "metadata": {},
     "output_type": "execute_result"
    }
   ],
   "source": [
    "gold_labels = [process_label(label) for label in prediction[\"원인 키워드\"][0].split('\", \"')]\n",
    "gold_labels"
   ]
  },
  {
   "cell_type": "code",
   "execution_count": 10,
   "id": "243d4344-6aa6-4c51-beed-b2a67f1ec673",
   "metadata": {},
   "outputs": [
    {
     "name": "stderr",
     "output_type": "stream",
     "text": [
      "100% 219/219 [00:00<00:00, 4360.54it/s]\n",
      "100% 219/219 [00:00<00:00, 3340.19it/s]\n",
      "100% 219/219 [00:02<00:00, 107.69it/s]\n",
      "100% 219/219 [00:02<00:00, 85.03it/s]\n"
     ]
    }
   ],
   "source": [
    "gold_standard_kp_dataset = make_keyphrase_dataset(prediction, col_name=\"원인 키워드\")\n",
    "model_prediction_kp_dataset = make_keyphrase_dataset(prediction, col_name=f\"{MODEL_NAME} 예측 키워드\", ignore_duplication_error=True)\n",
    "\n",
    "bio_tagged_gold_standard = make_bio_tagged_dataset(gold_standard_kp_dataset)\n",
    "bio_tagged_model_prediction = make_bio_tagged_dataset(model_prediction_kp_dataset)\n",
    "\n",
    "bio_tagged_gold_standard = bio_tagged_gold_standard.replace(to_replace=\"B-causal factor\", value=\"key\").replace(to_replace=\"I-causal factor\", value=\"key\")\n",
    "bio_tagged_model_prediction = bio_tagged_model_prediction.replace(to_replace=\"B-causal factor\", value=\"key\").replace(to_replace=\"I-causal factor\", value=\"key\")"
   ]
  },
  {
   "cell_type": "code",
   "execution_count": 11,
   "id": "bd05704a-9148-4705-9ac7-740b4656a9a3",
   "metadata": {},
   "outputs": [
    {
     "name": "stdout",
     "output_type": "stream",
     "text": [
      "Start Evaluation of KeyBERT model\n",
      "\n",
      "precision_score\n",
      "0.758836598666936\n",
      "0.5293587185887528\n",
      "0.765896764681491\n",
      "[0.86332256 0.19539488]\n",
      "0.19539487841618247\n",
      "\n",
      "recall_score\n",
      "0.758836598666936\n",
      "0.5310966063689548\n",
      "0.758836598666936\n",
      "[0.85263863 0.20955458]\n",
      "0.20955458112162473\n",
      "\n",
      "f1_score\n",
      "0.758836598666936\n",
      "0.5300872532587927\n",
      "0.7623021633903827\n",
      "[0.85794734 0.20222717]\n",
      "0.20222717149220487\n",
      "\n",
      "f2_score\n",
      "0.7588365986669361\n",
      "0.5306575089046375\n",
      "0.7602069125977273\n",
      "[0.85475421 0.20656081]\n",
      "0.20656080804404203\n"
     ]
    }
   ],
   "source": [
    "if len(bio_tagged_gold_standard) == len(bio_tagged_model_prediction):\n",
    "    print(f\"Start Evaluation of {MODEL_NAME} model\")\n",
    "    \n",
    "    print()\n",
    "    \n",
    "    print(\"precision_score\")\n",
    "    print(precision_score(bio_tagged_gold_standard[\"tag\"], bio_tagged_model_prediction[\"tag\"], average=\"micro\"))\n",
    "    print(precision_score(bio_tagged_gold_standard[\"tag\"], bio_tagged_model_prediction[\"tag\"], average=\"macro\"))\n",
    "    print(precision_score(bio_tagged_gold_standard[\"tag\"], bio_tagged_model_prediction[\"tag\"], average=\"weighted\"))\n",
    "    print(precision_score(bio_tagged_gold_standard[\"tag\"], bio_tagged_model_prediction[\"tag\"], average=None))\n",
    "    print(precision_score(bio_tagged_gold_standard[\"tag\"], bio_tagged_model_prediction[\"tag\"], average='micro', labels=[\"key\"]))\n",
    "    \n",
    "    print()\n",
    "    \n",
    "    print(\"recall_score\")\n",
    "    print(recall_score(bio_tagged_gold_standard[\"tag\"], bio_tagged_model_prediction[\"tag\"], average=\"micro\"))\n",
    "    print(recall_score(bio_tagged_gold_standard[\"tag\"], bio_tagged_model_prediction[\"tag\"], average=\"macro\"))\n",
    "    print(recall_score(bio_tagged_gold_standard[\"tag\"], bio_tagged_model_prediction[\"tag\"], average=\"weighted\"))\n",
    "    print(recall_score(bio_tagged_gold_standard[\"tag\"], bio_tagged_model_prediction[\"tag\"], average=None))\n",
    "    print(recall_score(bio_tagged_gold_standard[\"tag\"], bio_tagged_model_prediction[\"tag\"], average='micro', labels=[\"key\"]))\n",
    "    \n",
    "    print()\n",
    "\n",
    "    print(\"f1_score\")\n",
    "    print(f1_score(bio_tagged_gold_standard[\"tag\"], bio_tagged_model_prediction[\"tag\"], average=\"micro\"))\n",
    "    print(f1_score(bio_tagged_gold_standard[\"tag\"], bio_tagged_model_prediction[\"tag\"], average=\"macro\"))\n",
    "    print(f1_score(bio_tagged_gold_standard[\"tag\"], bio_tagged_model_prediction[\"tag\"], average=\"weighted\"))\n",
    "    print(f1_score(bio_tagged_gold_standard[\"tag\"], bio_tagged_model_prediction[\"tag\"], average=None))\n",
    "    print(f1_score(bio_tagged_gold_standard[\"tag\"], bio_tagged_model_prediction[\"tag\"], average='micro', labels=[\"key\"]))\n",
    "    \n",
    "    print()\n",
    "    \n",
    "    print(\"f2_score\")\n",
    "    print(fbeta_score(bio_tagged_gold_standard[\"tag\"], bio_tagged_model_prediction[\"tag\"], beta=2, average=\"micro\"))\n",
    "    print(fbeta_score(bio_tagged_gold_standard[\"tag\"], bio_tagged_model_prediction[\"tag\"], beta=2, average=\"macro\"))\n",
    "    print(fbeta_score(bio_tagged_gold_standard[\"tag\"], bio_tagged_model_prediction[\"tag\"], beta=2, average=\"weighted\"))\n",
    "    print(fbeta_score(bio_tagged_gold_standard[\"tag\"], bio_tagged_model_prediction[\"tag\"], beta=2, average=None))\n",
    "    print(fbeta_score(bio_tagged_gold_standard[\"tag\"], bio_tagged_model_prediction[\"tag\"], beta=2, average='micro', labels=[\"key\"]))"
   ]
  },
  {
   "cell_type": "code",
   "execution_count": null,
   "id": "f56efbcf-01f6-43d8-8255-a3b10303f32c",
   "metadata": {},
   "outputs": [],
   "source": []
  },
  {
   "cell_type": "code",
   "execution_count": null,
   "id": "6765c93d-02c8-4ae3-be1f-658ed8bed26d",
   "metadata": {},
   "outputs": [],
   "source": []
  }
 ],
 "metadata": {
  "kernelspec": {
   "display_name": "Python 3 (ipykernel)",
   "language": "python",
   "name": "python3"
  },
  "language_info": {
   "codemirror_mode": {
    "name": "ipython",
    "version": 3
   },
   "file_extension": ".py",
   "mimetype": "text/x-python",
   "name": "python",
   "nbconvert_exporter": "python",
   "pygments_lexer": "ipython3",
   "version": "3.8.10"
  }
 },
 "nbformat": 4,
 "nbformat_minor": 5
}
