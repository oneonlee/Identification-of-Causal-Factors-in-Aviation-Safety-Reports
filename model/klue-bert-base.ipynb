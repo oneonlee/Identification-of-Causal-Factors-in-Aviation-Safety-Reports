{
 "cells": [
  {
   "cell_type": "code",
   "execution_count": 1,
   "metadata": {
    "id": "SMVCwPlYfhOE"
   },
   "outputs": [
    {
     "name": "stderr",
     "output_type": "stream",
     "text": [
      "2023-12-07 15:59:56.511667: I tensorflow/core/platform/cpu_feature_guard.cc:193] This TensorFlow binary is optimized with oneAPI Deep Neural Network Library (oneDNN) to use the following CPU instructions in performance-critical operations:  AVX2 FMA\n",
      "To enable them in other operations, rebuild TensorFlow with the appropriate compiler flags.\n",
      "2023-12-07 15:59:56.703449: E tensorflow/stream_executor/cuda/cuda_blas.cc:2981] Unable to register cuBLAS factory: Attempting to register factory for plugin cuBLAS when one has already been registered\n",
      "2023-12-07 15:59:57.493617: W tensorflow/stream_executor/platform/default/dso_loader.cc:64] Could not load dynamic library 'libnvinfer.so.7'; dlerror: libnvinfer.so.7: cannot open shared object file: No such file or directory; LD_LIBRARY_PATH: /usr/local/nvidia/lib:/usr/local/nvidia/lib64\n",
      "2023-12-07 15:59:57.493733: W tensorflow/stream_executor/platform/default/dso_loader.cc:64] Could not load dynamic library 'libnvinfer_plugin.so.7'; dlerror: libnvinfer_plugin.so.7: cannot open shared object file: No such file or directory; LD_LIBRARY_PATH: /usr/local/nvidia/lib:/usr/local/nvidia/lib64\n",
      "2023-12-07 15:59:57.493746: W tensorflow/compiler/tf2tensorrt/utils/py_utils.cc:38] TF-TRT Warning: Cannot dlopen some TensorRT libraries. If you would like to use Nvidia GPU with TensorRT, please make sure the missing libraries mentioned above are installed properly.\n"
     ]
    }
   ],
   "source": [
    "import pandas as pd\n",
    "from tqdm import tqdm\n",
    "from sklearn.model_selection import train_test_split\n",
    "import re\n",
    "import numpy as np\n",
    "import os\n",
    "from tqdm import tqdm\n",
    "from transformers import shape_list, BertTokenizer, TFBertModel\n",
    "from tensorflow.keras.callbacks import EarlyStopping\n",
    "from tensorflow.keras.preprocessing.sequence import pad_sequences\n",
    "from seqeval.metrics import f1_score, classification_report\n",
    "import tensorflow as tf\n",
    "from transformers import TFBertForTokenClassification"
   ]
  },
  {
   "cell_type": "code",
   "execution_count": 2,
   "metadata": {},
   "outputs": [],
   "source": [
    "RANDOM_STATE = 42\n",
    "MAX_SEQ_LEN = 850\n",
    "GPU_NUM = 0\n",
    "HUGGINGFACE_MODEL_PATH =\"klue/bert-base\""
   ]
  },
  {
   "cell_type": "markdown",
   "metadata": {
    "id": "oi7lX9GXdNzw"
   },
   "source": [
    "# 1. 데이터 로드"
   ]
  },
  {
   "cell_type": "code",
   "execution_count": 3,
   "metadata": {},
   "outputs": [],
   "source": [
    "df = pd.read_csv(\"../data/BIO_tagged/BIO_tagged_GYRO_trainset.csv\")"
   ]
  },
  {
   "cell_type": "code",
   "execution_count": 4,
   "metadata": {},
   "outputs": [
    {
     "data": {
      "text/html": [
       "<div>\n",
       "<style scoped>\n",
       "    .dataframe tbody tr th:only-of-type {\n",
       "        vertical-align: middle;\n",
       "    }\n",
       "\n",
       "    .dataframe tbody tr th {\n",
       "        vertical-align: top;\n",
       "    }\n",
       "\n",
       "    .dataframe thead th {\n",
       "        text-align: right;\n",
       "    }\n",
       "</style>\n",
       "<table border=\"1\" class=\"dataframe\">\n",
       "  <thead>\n",
       "    <tr style=\"text-align: right;\">\n",
       "      <th></th>\n",
       "      <th>i</th>\n",
       "      <th>doc_idx</th>\n",
       "      <th>start_idx</th>\n",
       "      <th>token</th>\n",
       "      <th>tag</th>\n",
       "    </tr>\n",
       "  </thead>\n",
       "  <tbody>\n",
       "    <tr>\n",
       "      <th>0</th>\n",
       "      <td>0</td>\n",
       "      <td>7.00</td>\n",
       "      <td>0</td>\n",
       "      <td>우리가</td>\n",
       "      <td>O</td>\n",
       "    </tr>\n",
       "    <tr>\n",
       "      <th>1</th>\n",
       "      <td>0</td>\n",
       "      <td>7.00</td>\n",
       "      <td>4</td>\n",
       "      <td>RAMP를</td>\n",
       "      <td>O</td>\n",
       "    </tr>\n",
       "    <tr>\n",
       "      <th>2</th>\n",
       "      <td>0</td>\n",
       "      <td>7.00</td>\n",
       "      <td>10</td>\n",
       "      <td>지나</td>\n",
       "      <td>O</td>\n",
       "    </tr>\n",
       "    <tr>\n",
       "      <th>3</th>\n",
       "      <td>0</td>\n",
       "      <td>7.00</td>\n",
       "      <td>13</td>\n",
       "      <td>진행하고</td>\n",
       "      <td>O</td>\n",
       "    </tr>\n",
       "    <tr>\n",
       "      <th>4</th>\n",
       "      <td>0</td>\n",
       "      <td>7.00</td>\n",
       "      <td>18</td>\n",
       "      <td>있을</td>\n",
       "      <td>O</td>\n",
       "    </tr>\n",
       "    <tr>\n",
       "      <th>...</th>\n",
       "      <td>...</td>\n",
       "      <td>...</td>\n",
       "      <td>...</td>\n",
       "      <td>...</td>\n",
       "      <td>...</td>\n",
       "    </tr>\n",
       "    <tr>\n",
       "      <th>109776</th>\n",
       "      <td>873</td>\n",
       "      <td>984.00</td>\n",
       "      <td>465</td>\n",
       "      <td>생각하기엔</td>\n",
       "      <td>O</td>\n",
       "    </tr>\n",
       "    <tr>\n",
       "      <th>109777</th>\n",
       "      <td>873</td>\n",
       "      <td>984.00</td>\n",
       "      <td>471</td>\n",
       "      <td>문제가</td>\n",
       "      <td>O</td>\n",
       "    </tr>\n",
       "    <tr>\n",
       "      <th>109778</th>\n",
       "      <td>873</td>\n",
       "      <td>984.00</td>\n",
       "      <td>475</td>\n",
       "      <td>있는</td>\n",
       "      <td>O</td>\n",
       "    </tr>\n",
       "    <tr>\n",
       "      <th>109779</th>\n",
       "      <td>873</td>\n",
       "      <td>984.00</td>\n",
       "      <td>478</td>\n",
       "      <td>것으로</td>\n",
       "      <td>O</td>\n",
       "    </tr>\n",
       "    <tr>\n",
       "      <th>109780</th>\n",
       "      <td>873</td>\n",
       "      <td>984.00</td>\n",
       "      <td>482</td>\n",
       "      <td>보인다.</td>\n",
       "      <td>O</td>\n",
       "    </tr>\n",
       "  </tbody>\n",
       "</table>\n",
       "<p>109781 rows × 5 columns</p>\n",
       "</div>"
      ],
      "text/plain": [
       "          i doc_idx  start_idx  token tag\n",
       "0         0    7.00          0    우리가   O\n",
       "1         0    7.00          4  RAMP를   O\n",
       "2         0    7.00         10     지나   O\n",
       "3         0    7.00         13   진행하고   O\n",
       "4         0    7.00         18     있을   O\n",
       "...     ...     ...        ...    ...  ..\n",
       "109776  873  984.00        465  생각하기엔   O\n",
       "109777  873  984.00        471    문제가   O\n",
       "109778  873  984.00        475     있는   O\n",
       "109779  873  984.00        478    것으로   O\n",
       "109780  873  984.00        482   보인다.   O\n",
       "\n",
       "[109781 rows x 5 columns]"
      ]
     },
     "execution_count": 4,
     "metadata": {},
     "output_type": "execute_result"
    }
   ],
   "source": [
    "df"
   ]
  },
  {
   "cell_type": "code",
   "execution_count": 5,
   "metadata": {},
   "outputs": [
    {
     "name": "stdout",
     "output_type": "stream",
     "text": [
      "데이터에 Null 값이 있는지 유무 : False\n"
     ]
    }
   ],
   "source": [
    "print('데이터에 Null 값이 있는지 유무 : ' + str(df.isnull().values.any()))\n",
    "if df.isnull().values.any():\n",
    "    df = df.dropna().reset_index()\n",
    "    print('Null 값 삭제 후 데이터프레임 행의 개수 : {}'.format(len(df)))    \n",
    "    print('Null 값 삭제 후 데이터에 Null 값이 있는지 유무 : ' + str(df.isnull().values.any()))"
   ]
  },
  {
   "cell_type": "markdown",
   "metadata": {},
   "source": [
    "- token to sentence"
   ]
  },
  {
   "cell_type": "code",
   "execution_count": 6,
   "metadata": {},
   "outputs": [],
   "source": [
    "def dataset_to_sentence_and_labels(df):\n",
    "    dataset_sentence_list = []\n",
    "    dataset_label_list = []\n",
    "    temp_sent_list = []\n",
    "    temp_label_list = []\n",
    "\n",
    "    labels_list = []\n",
    "\n",
    "    temp_sent_list.append(df[\"token\"][0])\n",
    "    temp_label_list.append(df[\"tag\"][0])\n",
    "    prev_sentence = df[\"i\"][0]\n",
    "    for i in tqdm(range(1, len(df))):\n",
    "        tag = df[\"tag\"][i]\n",
    "        if tag != \"O\":\n",
    "            tag = \"key\"\n",
    "        else:\n",
    "            tag = \"O\"\n",
    "            \n",
    "        labels_list.append(tag)\n",
    "        if df[\"i\"][i] != prev_sentence:\n",
    "            dataset_sentence_list.append(temp_sent_list)\n",
    "            dataset_label_list.append(temp_label_list)\n",
    "            temp_sent_list = []\n",
    "            temp_label_list = []\n",
    "        temp_sent_list.append(df[\"token\"][i])\n",
    "        temp_label_list.append(tag)\n",
    "        prev_sentence = df[\"i\"][i]\n",
    "        \n",
    "    return dataset_sentence_list, dataset_label_list, labels_list"
   ]
  },
  {
   "cell_type": "code",
   "execution_count": 7,
   "metadata": {},
   "outputs": [
    {
     "name": "stderr",
     "output_type": "stream",
     "text": [
      "100% 109780/109780 [00:04<00:00, 24229.42it/s]\n"
     ]
    }
   ],
   "source": [
    "dataset_sentence_list, dataset_label_list, labels_list = dataset_to_sentence_and_labels(df)"
   ]
  },
  {
   "cell_type": "code",
   "execution_count": 8,
   "metadata": {},
   "outputs": [],
   "source": [
    "train_data_sentence, test_data_sentence, train_data_label, test_data_label = train_test_split(dataset_sentence_list, dataset_label_list, test_size=.2, shuffle=False, random_state=RANDOM_STATE)"
   ]
  },
  {
   "cell_type": "code",
   "execution_count": 9,
   "metadata": {},
   "outputs": [
    {
     "name": "stdout",
     "output_type": "stream",
     "text": [
      "개체명 태깅 정보 : ['O', 'key']\n"
     ]
    }
   ],
   "source": [
    "# labels = [label.strip() for label in open('BIO-label-LV2.txt', 'r', encoding='utf-8')]\n",
    "labels = list(set(labels_list))\n",
    "labels.sort()\n",
    "print('개체명 태깅 정보 :', labels)"
   ]
  },
  {
   "cell_type": "code",
   "execution_count": 10,
   "metadata": {
    "id": "QDrd3nPMqIAa"
   },
   "outputs": [],
   "source": [
    "tag_to_index = {tag: index for index, tag in enumerate(labels)}\n",
    "index_to_tag = {index: tag for index, tag in enumerate(labels)}"
   ]
  },
  {
   "cell_type": "code",
   "execution_count": 11,
   "metadata": {
    "colab": {
     "base_uri": "https://localhost:8080/"
    },
    "id": "l7I4QROdtDKG",
    "outputId": "3263a849-3c7d-4c7e-c064-e7d07b84c192"
   },
   "outputs": [
    {
     "name": "stdout",
     "output_type": "stream",
     "text": [
      "개체명 태깅 정보의 개수 : 2\n"
     ]
    }
   ],
   "source": [
    "tag_size = len(tag_to_index)\n",
    "print('개체명 태깅 정보의 개수 :',tag_size)"
   ]
  },
  {
   "cell_type": "markdown",
   "metadata": {
    "id": "olKkJHxbdLIK"
   },
   "source": [
    "# 2. 전처리 예시"
   ]
  },
  {
   "cell_type": "code",
   "execution_count": 12,
   "metadata": {
    "colab": {
     "base_uri": "https://localhost:8080/",
     "height": 145,
     "referenced_widgets": [
      "81529843e1be4607957bf481ca88456d",
      "7984e3f9150f449a93e388b380c74c0b",
      "48610ce4a155438bb92577fba42cfd7b",
      "738a454df9cf4c43bff622448b37d91a",
      "8441e7b6494e462da46b663e00ab9857",
      "d86996c44be3472096c2a64cb57f9a56",
      "d93b862729c5404c8b0ff3c315eeb527",
      "def18f6d71004f43996a6fb1e5f49e6c",
      "e068c86dd3924710913066e1e1b99332",
      "4a1f53804286472881a541b6ea6218d3",
      "6c7e6eaab946481283652b61ef06c7bd",
      "899c67dda1a644a28ba8e0723273b4ce",
      "41cd261c88f24bf2bc1f89d26e275c4b",
      "dd9dbf337cdd467b9c5c37e6eae4c015",
      "c6ae0bc684f74884ab5065f788b78b0f",
      "38271b4335264a628d26d29071de73ff",
      "969cc8a7ef8f4f5b9e8537c34566ea35",
      "41e9ca0b58cd4e7cbf56d9ed6da7490f",
      "314195c0fecb424994dde1fa9987fe5e",
      "13356c33bf264e6296e7d72d8d3989cc",
      "456df8552b464cc8aac87ec3efc3afdd",
      "385b6e5058d94feb95e16ca2ad09026e",
      "8cab231c53a9487f87e5d9ab9b5eabdf",
      "8a318af6717e4c3c86070c9ddd0f167f",
      "23339d556eec442098f6cad12e20ade6",
      "cc8146feee744ceba6ef0f6326df955c",
      "4e6977f9720648dda0411463ac80c230",
      "518f055f51b24d4faec9004175c06c21",
      "289796914587471cbc355d4266c14fd4",
      "6c730c1dc6064399a2db5ed1a71d565c",
      "f9c3945c1311441191e09eca5815cb60",
      "d8b3ec14287a40bb8565a44925d36215",
      "f680c08f97f7467291a740b66ee2df7f",
      "acf994a790b3428c9f0bee7942f06aa1",
      "f66d9ba367034530b46f0c31b88806a2",
      "16cbbdd83f7d4259aa1de57a8bac5c50",
      "a218c4a5a0044ac18e866f5f8222b500",
      "b315137c6c5e4456a23c3265eed24b81",
      "e3fb5a9905f742d8890fe59d3cb4074e",
      "f34e6414d8eb4b509e476a3685ba2526",
      "cc78cbe3b64b4b5bb84ea2f77ba63d8e",
      "3e6aaf6ae19b473082870d62d649460a",
      "624a0a96f8154247bf286402404bea0d",
      "04061c05f31445e195d1a1f7cf0f7262"
     ]
    },
    "id": "KcpPaUcSn_LT",
    "outputId": "1ef349c3-4203-427a-e30e-330acde81807"
   },
   "outputs": [],
   "source": [
    "tokenizer = BertTokenizer.from_pretrained(HUGGINGFACE_MODEL_PATH)"
   ]
  },
  {
   "cell_type": "markdown",
   "metadata": {
    "id": "qcc3SBlfEZtS"
   },
   "source": [
    "# 3. 전처리"
   ]
  },
  {
   "cell_type": "code",
   "execution_count": 13,
   "metadata": {
    "id": "Sxo1pIHrepW8"
   },
   "outputs": [],
   "source": [
    "def convert_examples_to_features(examples, labels, max_seq_len, tokenizer,\n",
    "                                 pad_token_id_for_segment=0, pad_token_id_for_label=-100):\n",
    "    cls_token = tokenizer.cls_token\n",
    "    sep_token = tokenizer.sep_token\n",
    "    pad_token_id = tokenizer.pad_token_id\n",
    "\n",
    "    input_ids, attention_masks, token_type_ids, data_labels = [], [], [], []\n",
    "    for example, label in tqdm(zip(examples, labels), total=len(examples)):\n",
    "        tokens = []\n",
    "        labels_ids = []\n",
    "        for one_word, label_token in zip(example, label):\n",
    "            subword_tokens = tokenizer.tokenize(one_word)\n",
    "            tokens.extend(subword_tokens)\n",
    "            if len(subword_tokens)>=1:\n",
    "                labels_ids.extend([tag_to_index[label_token]] + [pad_token_id_for_label] * (len(subword_tokens) - 1))\n",
    "            elif len(subword_tokens)==0:\n",
    "                pass\n",
    "\n",
    "        special_tokens_count = 2\n",
    "        if len(tokens) > max_seq_len - special_tokens_count:\n",
    "            tokens = tokens[:(max_seq_len - special_tokens_count)]\n",
    "            labels_ids = labels_ids[:(max_seq_len - special_tokens_count)]\n",
    "\n",
    "        tokens += [sep_token]\n",
    "        labels_ids += [pad_token_id_for_label]\n",
    "\n",
    "        tokens = [cls_token] + tokens\n",
    "        labels_ids = [pad_token_id_for_label] + labels_ids\n",
    "\n",
    "        input_id = tokenizer.convert_tokens_to_ids(tokens)\n",
    "        attention_mask = [1] * len(input_id)\n",
    "        padding_count = max_seq_len - len(input_id)\n",
    "        input_id = input_id + ([pad_token_id] * padding_count)\n",
    "        attention_mask = attention_mask + ([0] * padding_count)\n",
    "        token_type_id = [pad_token_id_for_segment] * max_seq_len\n",
    "        label = labels_ids + ([pad_token_id_for_label] * padding_count)\n",
    "        assert len(input_id) == max_seq_len, \"Error with input length {} vs {}\".format(len(input_id), max_seq_len)\n",
    "        assert len(attention_mask) == max_seq_len, \"Error with attention mask length {} vs {}\".format(len(attention_mask), max_seq_len)\n",
    "        assert len(token_type_id) == max_seq_len, \"Error with token type length {} vs {}\".format(len(token_type_id), max_seq_len)\n",
    "        assert len(label) == max_seq_len, \"Error with labels length {} vs {}\".format(len(label), max_seq_len)\n",
    "\n",
    "        input_ids.append(input_id)\n",
    "        attention_masks.append(attention_mask)\n",
    "        token_type_ids.append(token_type_id)\n",
    "        data_labels.append(label)\n",
    "        \n",
    "    input_ids = np.array(input_ids, dtype=int)\n",
    "    attention_masks = np.array(attention_masks, dtype=int)\n",
    "    token_type_ids = np.array(token_type_ids, dtype=int)\n",
    "    data_labels = np.asarray(data_labels, dtype=np.int32)\n",
    "\n",
    "    return (input_ids, attention_masks, token_type_ids), data_labels"
   ]
  },
  {
   "cell_type": "code",
   "execution_count": 14,
   "metadata": {
    "colab": {
     "base_uri": "https://localhost:8080/"
    },
    "id": "whD6ej7go8BE",
    "outputId": "8d7e6422-0e4e-4edf-b872-2e4bdfcd8836"
   },
   "outputs": [
    {
     "name": "stderr",
     "output_type": "stream",
     "text": [
      "100% 698/698 [00:05<00:00, 122.57it/s]\n"
     ]
    }
   ],
   "source": [
    "X_train, y_train = convert_examples_to_features(train_data_sentence, train_data_label, max_seq_len=MAX_SEQ_LEN, tokenizer=tokenizer)"
   ]
  },
  {
   "cell_type": "code",
   "execution_count": 15,
   "metadata": {
    "colab": {
     "base_uri": "https://localhost:8080/"
    },
    "id": "dnb6SS3UflDG",
    "outputId": "a2c93300-2038-4a3d-ba1c-d4e895303343"
   },
   "outputs": [
    {
     "name": "stderr",
     "output_type": "stream",
     "text": [
      "100% 175/175 [00:01<00:00, 132.77it/s]\n"
     ]
    }
   ],
   "source": [
    "X_valid, y_valid = convert_examples_to_features(test_data_sentence, test_data_label, max_seq_len=MAX_SEQ_LEN, tokenizer=tokenizer)"
   ]
  },
  {
   "cell_type": "markdown",
   "metadata": {
    "id": "eEBzRbTBEc64"
   },
   "source": [
    "# 4. 모델링"
   ]
  },
  {
   "cell_type": "markdown",
   "metadata": {
    "id": "aEuboHlnSh6i"
   },
   "source": [
    "# 5. 학습 및 평가"
   ]
  },
  {
   "cell_type": "code",
   "execution_count": 17,
   "metadata": {},
   "outputs": [
    {
     "name": "stderr",
     "output_type": "stream",
     "text": [
      "2023-11-22 19:35:45.631053: I tensorflow/core/platform/cpu_feature_guard.cc:193] This TensorFlow binary is optimized with oneAPI Deep Neural Network Library (oneDNN) to use the following CPU instructions in performance-critical operations:  AVX2 FMA\n",
      "To enable them in other operations, rebuild TensorFlow with the appropriate compiler flags.\n",
      "2023-11-22 19:35:59.694484: I tensorflow/core/common_runtime/gpu/gpu_device.cc:1616] Created device /job:localhost/replica:0/task:0/device:GPU:0 with 46139 MB memory:  -> device: 0, name: NVIDIA RTX A6000, pci bus id: 0000:01:00.0, compute capability: 8.6\n",
      "2023-11-22 19:35:59.697406: I tensorflow/core/common_runtime/gpu/gpu_device.cc:1616] Created device /job:localhost/replica:0/task:0/device:GPU:1 with 46139 MB memory:  -> device: 1, name: NVIDIA RTX A6000, pci bus id: 0000:05:00.0, compute capability: 8.6\n",
      "2023-11-22 19:35:59.700112: I tensorflow/core/common_runtime/gpu/gpu_device.cc:1616] Created device /job:localhost/replica:0/task:0/device:GPU:2 with 46139 MB memory:  -> device: 2, name: NVIDIA RTX A6000, pci bus id: 0000:06:00.0, compute capability: 8.6\n",
      "2023-11-22 19:35:59.702810: I tensorflow/core/common_runtime/gpu/gpu_device.cc:1616] Created device /job:localhost/replica:0/task:0/device:GPU:3 with 46139 MB memory:  -> device: 3, name: NVIDIA RTX A6000, pci bus id: 0000:08:00.0, compute capability: 8.6\n",
      "2023-11-22 19:35:59.705505: I tensorflow/core/common_runtime/gpu/gpu_device.cc:1616] Created device /job:localhost/replica:0/task:0/device:GPU:4 with 46139 MB memory:  -> device: 4, name: NVIDIA RTX A6000, pci bus id: 0000:0e:00.0, compute capability: 8.6\n",
      "2023-11-22 19:35:59.708143: I tensorflow/core/common_runtime/gpu/gpu_device.cc:1616] Created device /job:localhost/replica:0/task:0/device:GPU:5 with 46139 MB memory:  -> device: 5, name: NVIDIA RTX A6000, pci bus id: 0000:0f:00.0, compute capability: 8.6\n",
      "2023-11-22 19:36:02.399376: I tensorflow/stream_executor/cuda/cuda_blas.cc:1614] TensorFloat-32 will be used for the matrix multiplication. This will only be logged once.\n",
      "Some weights of the PyTorch model were not used when initializing the TF 2.0 model TFBertForTokenClassification: ['bert.embeddings.position_ids']\n",
      "- This IS expected if you are initializing TFBertForTokenClassification from a PyTorch model trained on another task or with another architecture (e.g. initializing a TFBertForSequenceClassification model from a BertForPreTraining model).\n",
      "- This IS NOT expected if you are initializing TFBertForTokenClassification from a PyTorch model that you expect to be exactly identical (e.g. initializing a TFBertForSequenceClassification model from a BertForSequenceClassification model).\n",
      "Some weights or buffers of the TF 2.0 model TFBertForTokenClassification were not initialized from the PyTorch model and are newly initialized: ['classifier.weight', 'classifier.bias']\n",
      "You should probably TRAIN this model on a down-stream task to be able to use it for predictions and inference.\n"
     ]
    }
   ],
   "source": [
    "model = TFBertForTokenClassification.from_pretrained(HUGGINGFACE_MODEL_PATH, num_labels=tag_size, from_pt=True)\n",
    "optimizer = tf.keras.optimizers.Adam(learning_rate=5e-5)\n",
    "model.compile(optimizer=optimizer, loss=model.hf_compute_loss)"
   ]
  },
  {
   "cell_type": "code",
   "execution_count": 18,
   "metadata": {
    "id": "YrElV6uL_dah"
   },
   "outputs": [],
   "source": [
    "class F1score(tf.keras.callbacks.Callback):\n",
    "    def __init__(self, X_valid, y_valid):\n",
    "        self.X_valid = X_valid\n",
    "        self.y_valid = y_valid\n",
    "\n",
    "    def sequences_to_tags(self, label_ids, pred_ids):\n",
    "        label_list = []\n",
    "        pred_list = []\n",
    "\n",
    "        for i in range(0, len(label_ids)):\n",
    "            label_tag = []\n",
    "            pred_tag = []\n",
    "\n",
    "        for label_index, pred_index in zip(label_ids[i], pred_ids[i]):\n",
    "            if label_index != -100:\n",
    "                label_tag.append(index_to_tag[label_index])\n",
    "                pred_tag.append(index_to_tag[pred_index])\n",
    "\n",
    "        label_list.append(label_tag)\n",
    "        pred_list.append(pred_tag)\n",
    "\n",
    "        return label_list, pred_list\n",
    "\n",
    "    def on_epoch_end(self, epoch, logs={}):\n",
    "        y_predicted = self.model.predict(self.X_valid)\n",
    "        y_predicted = np.argmax(y_predicted.logits, axis = 2)\n",
    "\n",
    "        label_list, pred_list = self.sequences_to_tags(self.y_valid, y_predicted)\n",
    "\n",
    "        score = f1_score(label_list, pred_list, suffix=False)\n",
    "        print(' - f1: {:04.2f}'.format(score * 100))\n",
    "        print(classification_report(label_list, pred_list, suffix=False))"
   ]
  },
  {
   "cell_type": "code",
   "execution_count": 19,
   "metadata": {
    "id": "G72kvx5RBDJS"
   },
   "outputs": [],
   "source": [
    "f1_score_report = F1score(X_valid, y_valid)"
   ]
  },
  {
   "cell_type": "code",
   "execution_count": 20,
   "metadata": {
    "colab": {
     "base_uri": "https://localhost:8080/"
    },
    "id": "uS__NIRH8cyI",
    "outputId": "877e6489-7f80-4fc7-be3e-a0fde1157c7c"
   },
   "outputs": [
    {
     "name": "stdout",
     "output_type": "stream",
     "text": [
      "Epoch 1/3\n",
      "6/6 [==============================] - 6s 484ms/step\n",
      " - f1: 0.00\n",
      "              precision    recall  f1-score   support\n",
      "\n",
      "          ey       0.00      0.00      0.00         1\n",
      "\n",
      "   micro avg       0.00      0.00      0.00         1\n",
      "   macro avg       0.00      0.00      0.00         1\n",
      "weighted avg       0.00      0.00      0.00         1\n",
      "\n",
      "44/44 [==============================] - 66s 984ms/step - loss: 0.3921\n",
      "Epoch 2/3\n"
     ]
    },
    {
     "name": "stderr",
     "output_type": "stream",
     "text": [
      "/usr/local/lib/python3.8/dist-packages/seqeval/metrics/sequence_labeling.py:171: UserWarning: key seems not to be NE tag.\n",
      "  warnings.warn('{} seems not to be NE tag.'.format(chunk))\n",
      "/usr/local/lib/python3.8/dist-packages/seqeval/metrics/v1.py:57: UndefinedMetricWarning: Precision and F-score are ill-defined and being set to 0.0 due to no predicted samples. Use `zero_division` parameter to control this behavior.\n",
      "  _warn_prf(average, modifier, msg_start, len(result))\n"
     ]
    },
    {
     "name": "stdout",
     "output_type": "stream",
     "text": [
      "6/6 [==============================] - 3s 487ms/step\n",
      " - f1: 0.00\n",
      "              precision    recall  f1-score   support\n",
      "\n",
      "          ey       0.00      0.00      0.00         1\n",
      "\n",
      "   micro avg       0.00      0.00      0.00         1\n",
      "   macro avg       0.00      0.00      0.00         1\n",
      "weighted avg       0.00      0.00      0.00         1\n",
      "\n",
      "44/44 [==============================] - 40s 908ms/step - loss: 0.2664\n",
      "Epoch 3/3\n",
      "6/6 [==============================] - 3s 488ms/step\n",
      " - f1: 0.00\n",
      "              precision    recall  f1-score   support\n",
      "\n",
      "          ey       0.00      0.00      0.00         1\n",
      "\n",
      "   micro avg       0.00      0.00      0.00         1\n",
      "   macro avg       0.00      0.00      0.00         1\n",
      "weighted avg       0.00      0.00      0.00         1\n",
      "\n",
      "44/44 [==============================] - 40s 909ms/step - loss: 0.1829\n"
     ]
    }
   ],
   "source": [
    "model.fit(\n",
    "    X_train, y_train, epochs=3, batch_size=16, \n",
    "    callbacks=[f1_score_report]\n",
    ")\n",
    "\n",
    "model.save_pretrained(HUGGINGFACE_MODEL_PATH.replace('/', '-'))"
   ]
  },
  {
   "cell_type": "markdown",
   "metadata": {},
   "source": [
    "# 6. 최종 평가"
   ]
  },
  {
   "cell_type": "code",
   "execution_count": 21,
   "metadata": {},
   "outputs": [],
   "source": [
    "from transformers import TFBertForTokenClassification"
   ]
  },
  {
   "cell_type": "code",
   "execution_count": 22,
   "metadata": {},
   "outputs": [],
   "source": [
    "test_df = pd.read_csv(\"../data/BIO_tagged/BIO_tagged_GYRO_testset.csv\")\n",
    "test_df = test_df.replace(to_replace=\"B-causal factor\", value=\"key\").replace(to_replace=\"I-causal factor\", value=\"key\")"
   ]
  },
  {
   "cell_type": "code",
   "execution_count": 23,
   "metadata": {},
   "outputs": [
    {
     "name": "stdout",
     "output_type": "stream",
     "text": [
      "데이터에 Null 값이 있는지 유무 : False\n"
     ]
    }
   ],
   "source": [
    "print('데이터에 Null 값이 있는지 유무 : ' + str(test_df.isnull().values.any()))\n",
    "if test_df.isnull().values.any():\n",
    "    test_df = test_df.dropna().reset_index()\n",
    "    print('Null 값 삭제 후 데이터프레임 행의 개수 : {}'.format(len(test_df)))    \n",
    "    print('Null 값 삭제 후 데이터에 Null 값이 있는지 유무 : ' + str(test_df.isnull().values.any()))"
   ]
  },
  {
   "cell_type": "code",
   "execution_count": 24,
   "metadata": {},
   "outputs": [
    {
     "name": "stderr",
     "output_type": "stream",
     "text": [
      "100% 29705/29705 [00:01<00:00, 24729.18it/s]\n"
     ]
    }
   ],
   "source": [
    "test_dataset_sentence_list, test_dataset_label_list, test_labels_list = dataset_to_sentence_and_labels(test_df)"
   ]
  },
  {
   "cell_type": "code",
   "execution_count": 25,
   "metadata": {},
   "outputs": [
    {
     "name": "stderr",
     "output_type": "stream",
     "text": [
      "100% 218/218 [00:01<00:00, 113.59it/s]\n"
     ]
    }
   ],
   "source": [
    "X_test, y_test = convert_examples_to_features(test_dataset_sentence_list, test_dataset_label_list, max_seq_len=MAX_SEQ_LEN, tokenizer=tokenizer)"
   ]
  },
  {
   "cell_type": "code",
   "execution_count": 26,
   "metadata": {},
   "outputs": [
    {
     "name": "stderr",
     "output_type": "stream",
     "text": [
      "2023-12-07 16:00:33.054645: I tensorflow/core/platform/cpu_feature_guard.cc:193] This TensorFlow binary is optimized with oneAPI Deep Neural Network Library (oneDNN) to use the following CPU instructions in performance-critical operations:  AVX2 FMA\n",
      "To enable them in other operations, rebuild TensorFlow with the appropriate compiler flags.\n",
      "2023-12-07 16:00:51.398830: I tensorflow/core/common_runtime/gpu/gpu_device.cc:1616] Created device /job:localhost/replica:0/task:0/device:GPU:0 with 46139 MB memory:  -> device: 0, name: NVIDIA RTX A6000, pci bus id: 0000:01:00.0, compute capability: 8.6\n",
      "2023-12-07 16:00:51.401918: I tensorflow/core/common_runtime/gpu/gpu_device.cc:1616] Created device /job:localhost/replica:0/task:0/device:GPU:1 with 46139 MB memory:  -> device: 1, name: NVIDIA RTX A6000, pci bus id: 0000:05:00.0, compute capability: 8.6\n",
      "2023-12-07 16:00:51.404699: I tensorflow/core/common_runtime/gpu/gpu_device.cc:1616] Created device /job:localhost/replica:0/task:0/device:GPU:2 with 46139 MB memory:  -> device: 2, name: NVIDIA RTX A6000, pci bus id: 0000:06:00.0, compute capability: 8.6\n",
      "2023-12-07 16:00:51.407561: I tensorflow/core/common_runtime/gpu/gpu_device.cc:1616] Created device /job:localhost/replica:0/task:0/device:GPU:3 with 46139 MB memory:  -> device: 3, name: NVIDIA RTX A6000, pci bus id: 0000:08:00.0, compute capability: 8.6\n",
      "2023-12-07 16:00:51.409340: I tensorflow/core/common_runtime/gpu/gpu_device.cc:1616] Created device /job:localhost/replica:0/task:0/device:GPU:4 with 16428 MB memory:  -> device: 4, name: NVIDIA RTX A6000, pci bus id: 0000:0e:00.0, compute capability: 8.6\n",
      "2023-12-07 16:00:51.411015: I tensorflow/core/common_runtime/gpu/gpu_device.cc:1616] Created device /job:localhost/replica:0/task:0/device:GPU:5 with 16566 MB memory:  -> device: 5, name: NVIDIA RTX A6000, pci bus id: 0000:0f:00.0, compute capability: 8.6\n"
     ]
    },
    {
     "data": {
      "application/vnd.jupyter.widget-view+json": {
       "model_id": "a4323297012f41dc9daccaaa9784eb87",
       "version_major": 2,
       "version_minor": 0
      },
      "text/plain": [
       "pytorch_model.bin:   0%|          | 0.00/445M [00:00<?, ?B/s]"
      ]
     },
     "metadata": {},
     "output_type": "display_data"
    },
    {
     "name": "stderr",
     "output_type": "stream",
     "text": [
      "2023-12-07 16:03:13.141919: I tensorflow/stream_executor/cuda/cuda_blas.cc:1614] TensorFloat-32 will be used for the matrix multiplication. This will only be logged once.\n",
      "Some weights of the PyTorch model were not used when initializing the TF 2.0 model TFBertForTokenClassification: ['bert.embeddings.position_ids']\n",
      "- This IS expected if you are initializing TFBertForTokenClassification from a PyTorch model trained on another task or with another architecture (e.g. initializing a TFBertForSequenceClassification model from a BertForPreTraining model).\n",
      "- This IS NOT expected if you are initializing TFBertForTokenClassification from a PyTorch model that you expect to be exactly identical (e.g. initializing a TFBertForSequenceClassification model from a BertForSequenceClassification model).\n",
      "Some weights or buffers of the TF 2.0 model TFBertForTokenClassification were not initialized from the PyTorch model and are newly initialized: ['classifier.weight', 'classifier.bias']\n",
      "You should probably TRAIN this model on a down-stream task to be able to use it for predictions and inference.\n"
     ]
    }
   ],
   "source": [
    "with tf.device(f\"/GPU:{GPU_NUM}\"):\n",
    "    load_model = TFBertForTokenClassification.from_pretrained(HUGGINGFACE_MODEL_PATH, num_labels=tag_size, from_pt=True)\n",
    "    optimizer = tf.keras.optimizers.Adam(learning_rate=5e-5)\n",
    "    load_model.compile(optimizer=optimizer, loss=load_model.hf_compute_loss)\n",
    "    load_model.load_weights(f\"{HUGGINGFACE_MODEL_PATH.replace('/', '-')}/tf_model.h5\")"
   ]
  },
  {
   "cell_type": "code",
   "execution_count": 27,
   "metadata": {},
   "outputs": [],
   "source": [
    "class F1score(tf.keras.callbacks.Callback):\n",
    "    def __init__(self, X_valid, y_valid):\n",
    "        self.X_valid = X_valid\n",
    "        self.y_valid = y_valid\n",
    "\n",
    "    def sequences_to_tags(self, label_ids, pred_ids):\n",
    "        label_list = []\n",
    "        pred_list = []\n",
    "\n",
    "        for i in range(0, len(label_ids)):\n",
    "            label_tag = []\n",
    "            pred_tag = []\n",
    "\n",
    "        for label_index, pred_index in zip(label_ids[i], pred_ids[i]):\n",
    "            if label_index != -100:\n",
    "                label_tag.append(index_to_tag[label_index])\n",
    "                pred_tag.append(index_to_tag[pred_index])\n",
    "\n",
    "        label_list.append(label_tag)\n",
    "        pred_list.append(pred_tag)\n",
    "\n",
    "        return label_list, pred_list\n",
    "\n",
    "    def on_epoch_end(self, epoch, logs={}):\n",
    "        y_predicted = self.model.predict(self.X_valid)\n",
    "        y_predicted = np.argmax(y_predicted.logits, axis = 2)\n",
    "\n",
    "        label_list, pred_list = self.sequences_to_tags(self.y_valid, y_predicted)\n",
    "\n",
    "        score = f1_score(label_list, pred_list, suffix=False)\n",
    "        print(' - f1: {:04.2f}'.format(score * 100))\n",
    "        print(classification_report(label_list, pred_list, suffix=False))"
   ]
  },
  {
   "cell_type": "code",
   "execution_count": 29,
   "metadata": {},
   "outputs": [
    {
     "name": "stdout",
     "output_type": "stream",
     "text": [
      "6/6 [==============================] - 12s 482ms/step\n"
     ]
    },
    {
     "ename": "IndexError",
     "evalue": "index 217 is out of bounds for axis 0 with size 175",
     "output_type": "error",
     "traceback": [
      "\u001b[0;31m---------------------------------------------------------------------------\u001b[0m",
      "\u001b[0;31mIndexError\u001b[0m                                Traceback (most recent call last)",
      "Cell \u001b[0;32mIn[29], line 24\u001b[0m\n\u001b[1;32m     21\u001b[0m \u001b[38;5;66;03m# y_predicted = model.predict(X_test) # 입력한 테스트용 샘플에 대해서 예측 y를 리턴\u001b[39;00m\n\u001b[1;32m     22\u001b[0m y_predicted \u001b[38;5;241m=\u001b[39m np\u001b[38;5;241m.\u001b[39margmax(y_predicted\u001b[38;5;241m.\u001b[39mlogits, axis\u001b[38;5;241m=\u001b[39m\u001b[38;5;241m2\u001b[39m)\n\u001b[0;32m---> 24\u001b[0m label_list, pred_list \u001b[38;5;241m=\u001b[39m \u001b[43msequences_to_tags\u001b[49m\u001b[43m(\u001b[49m\u001b[43my_test\u001b[49m\u001b[43m,\u001b[49m\u001b[43m \u001b[49m\u001b[43my_predicted\u001b[49m\u001b[43m)\u001b[49m\n\u001b[1;32m     26\u001b[0m score \u001b[38;5;241m=\u001b[39m f1_score(label_list, pred_list, suffix\u001b[38;5;241m=\u001b[39m\u001b[38;5;28;01mFalse\u001b[39;00m)\n\u001b[1;32m     27\u001b[0m \u001b[38;5;28mprint\u001b[39m(\u001b[38;5;124m'\u001b[39m\u001b[38;5;124m - f1: \u001b[39m\u001b[38;5;132;01m{:04.2f}\u001b[39;00m\u001b[38;5;124m'\u001b[39m\u001b[38;5;241m.\u001b[39mformat(score \u001b[38;5;241m*\u001b[39m \u001b[38;5;241m100\u001b[39m))\n",
      "Cell \u001b[0;32mIn[29], line 9\u001b[0m, in \u001b[0;36msequences_to_tags\u001b[0;34m(label_ids, pred_ids)\u001b[0m\n\u001b[1;32m      6\u001b[0m     label_tag \u001b[38;5;241m=\u001b[39m []\n\u001b[1;32m      7\u001b[0m     pred_tag \u001b[38;5;241m=\u001b[39m []\n\u001b[0;32m----> 9\u001b[0m \u001b[38;5;28;01mfor\u001b[39;00m label_index, pred_index \u001b[38;5;129;01min\u001b[39;00m \u001b[38;5;28mzip\u001b[39m(label_ids[i], \u001b[43mpred_ids\u001b[49m\u001b[43m[\u001b[49m\u001b[43mi\u001b[49m\u001b[43m]\u001b[49m):\n\u001b[1;32m     10\u001b[0m     \u001b[38;5;28;01mif\u001b[39;00m label_index \u001b[38;5;241m!=\u001b[39m \u001b[38;5;241m-\u001b[39m\u001b[38;5;241m100\u001b[39m:\n\u001b[1;32m     11\u001b[0m         label_tag\u001b[38;5;241m.\u001b[39mappend(index_to_tag[label_index])\n",
      "\u001b[0;31mIndexError\u001b[0m: index 217 is out of bounds for axis 0 with size 175"
     ]
    }
   ],
   "source": [
    "def sequences_to_tags(label_ids, pred_ids):\n",
    "    label_list = []\n",
    "    pred_list = []\n",
    "\n",
    "    for i in range(0, len(label_ids)):\n",
    "        label_tag = []\n",
    "        pred_tag = []\n",
    "\n",
    "    for label_index, pred_index in zip(label_ids[i], pred_ids[i]):\n",
    "        if label_index != -100:\n",
    "            label_tag.append(index_to_tag[label_index])\n",
    "            pred_tag.append(index_to_tag[pred_index])\n",
    "\n",
    "    label_list.append(label_tag)\n",
    "    pred_list.append(pred_tag)\n",
    "\n",
    "    return label_list, pred_list\n",
    "    \n",
    "    \n",
    "y_predicted = load_model.predict(X_valid) # 입력한 테스트용 샘플에 대해서 예측 y를 리턴\n",
    "# y_predicted = model.predict(X_test) # 입력한 테스트용 샘플에 대해서 예측 y를 리턴\n",
    "y_predicted = np.argmax(y_predicted.logits, axis=2)\n",
    "\n",
    "label_list, pred_list = sequences_to_tags(y_test, y_predicted)\n",
    "\n",
    "score = f1_score(label_list, pred_list, suffix=False)\n",
    "print(' - f1: {:04.2f}'.format(score * 100))\n",
    "print(classification_report(label_list, pred_list, suffix=False))"
   ]
  },
  {
   "cell_type": "markdown",
   "metadata": {
    "id": "46u5tNFuEfVB"
   },
   "source": [
    "# 7. 예측"
   ]
  },
  {
   "cell_type": "code",
   "execution_count": 30,
   "metadata": {
    "id": "Ic-E-9YC0jQ3"
   },
   "outputs": [],
   "source": [
    "def convert_examples_to_features_for_prediction(examples, max_seq_len, tokenizer,\n",
    "                                 pad_token_id_for_segment=0, pad_token_id_for_label=-100):\n",
    "    cls_token = tokenizer.cls_token\n",
    "    sep_token = tokenizer.sep_token\n",
    "    pad_token_id = tokenizer.pad_token_id\n",
    "\n",
    "    input_ids, attention_masks, token_type_ids, label_masks = [], [], [], []\n",
    "\n",
    "    for example in tqdm(examples):\n",
    "        tokens = []\n",
    "        label_mask = []\n",
    "        for one_word in example:\n",
    "            subword_tokens = tokenizer.tokenize(one_word)\n",
    "            tokens.extend(subword_tokens)\n",
    "            if len(subword_tokens)>=1:\n",
    "                label_mask.extend([0]+ [pad_token_id_for_label] * (len(subword_tokens) - 1))\n",
    "            elif len(subword_tokens)==0:\n",
    "                pass\n",
    "\n",
    "        special_tokens_count = 2\n",
    "        if len(tokens) > max_seq_len - special_tokens_count:\n",
    "            tokens = tokens[:(max_seq_len - special_tokens_count)]\n",
    "            label_mask = label_mask[:(max_seq_len - special_tokens_count)]\n",
    "\n",
    "        tokens += [sep_token]\n",
    "        label_mask += [pad_token_id_for_label]\n",
    "\n",
    "        tokens = [cls_token] + tokens\n",
    "        label_mask = [pad_token_id_for_label] + label_mask\n",
    "\n",
    "\n",
    "        input_id = tokenizer.convert_tokens_to_ids(tokens)\n",
    "        attention_mask = [1] * len(input_id)\n",
    "        padding_count = max_seq_len - len(input_id)\n",
    "        input_id = input_id + ([pad_token_id] * padding_count)\n",
    "        attention_mask = attention_mask + ([0] * padding_count)\n",
    "        token_type_id = [pad_token_id_for_segment] * max_seq_len\n",
    "        label_mask = label_mask + ([pad_token_id_for_label] * padding_count)\n",
    "\n",
    "        assert len(input_id) == max_seq_len, \"Error with input length {} vs {}\".format(len(input_id), max_seq_len)\n",
    "        assert len(attention_mask) == max_seq_len, \"Error with attention mask length {} vs {}\".format(len(attention_mask), max_seq_len)\n",
    "        assert len(token_type_id) == max_seq_len, \"Error with token type length {} vs {}\".format(len(token_type_id), max_seq_len)\n",
    "        assert len(label_mask) == max_seq_len, \"Error with labels length {} vs {}\".format(len(label_mask), max_seq_len)\n",
    "\n",
    "        input_ids.append(input_id)\n",
    "        attention_masks.append(attention_mask)\n",
    "        token_type_ids.append(token_type_id)\n",
    "        label_masks.append(label_mask)\n",
    "\n",
    "    input_ids = np.array(input_ids, dtype=int)\n",
    "    attention_masks = np.array(attention_masks, dtype=int)\n",
    "    token_type_ids = np.array(token_type_ids, dtype=int)\n",
    "    label_masks = np.asarray(label_masks, dtype=np.int32)\n",
    "\n",
    "    return (input_ids, attention_masks, token_type_ids), label_masks"
   ]
  },
  {
   "cell_type": "code",
   "execution_count": 31,
   "metadata": {},
   "outputs": [],
   "source": [
    "def process_doc(doc):\n",
    "    processed_doc = doc.strip('\"').replace(\"\\n\", \" \").strip()\n",
    "    processed_doc = re.sub('\\s+', ' ', processed_doc)\n",
    "    \n",
    "    return processed_doc"
   ]
  },
  {
   "cell_type": "code",
   "execution_count": 32,
   "metadata": {
    "id": "eun5TwgHi2J3"
   },
   "outputs": [],
   "source": [
    "def ner_prediction(model, examples, max_seq_len, tokenizer, isTokenized=False):\n",
    "    if isTokenized == False:\n",
    "        examples = [report.split(' ') for report in examples]\n",
    "        X_pred, label_masks = convert_examples_to_features_for_prediction(examples, max_seq_len=max_seq_len, tokenizer=tokenizer)\n",
    "    elif isTokenized == True:\n",
    "        X_pred, label_masks = convert_examples_to_features_for_prediction(examples, max_seq_len=max_seq_len, tokenizer=tokenizer)\n",
    "    \n",
    "    y_predicted = model.predict(X_pred)\n",
    "    y_predicted = np.argmax(y_predicted.logits, axis = 2)\n",
    "\n",
    "    pred_list = []\n",
    "    result_list = []\n",
    "\n",
    "    for i in range(0, len(label_masks)):\n",
    "        pred_tag = []\n",
    "        for label_index, pred_index in zip(label_masks[i], y_predicted[i]):\n",
    "            pred_tag.append(index_to_tag[pred_index])\n",
    "            \n",
    "        pred_list.append(pred_tag)\n",
    "\n",
    "    for example, pred in zip(examples, pred_list):\n",
    "        one_sample_result = []\n",
    "        for one_word, label_token in zip(example, pred):\n",
    "            one_sample_result.append((one_word, label_token))\n",
    "        result_list.append(one_sample_result)\n",
    "\n",
    "    return result_list"
   ]
  },
  {
   "cell_type": "code",
   "execution_count": 33,
   "metadata": {
    "colab": {
     "base_uri": "https://localhost:8080/"
    },
    "id": "j7V1F0K8m3v2",
    "outputId": "06ba321b-480c-4e73-f584-d50fcd12eedb"
   },
   "outputs": [],
   "source": [
    "def tag_to_sequence(result_list):\n",
    "    pred_list = []\n",
    "    for i in range(len(result_list)):\n",
    "        continue_flag = False\n",
    "        keyphrase_list = []\n",
    "        for token, tag in result_list[i]:\n",
    "            if continue_flag == True and tag == \"O\":\n",
    "                keyphrase = \" \".join(sequence)\n",
    "                keyphrase_list.append(keyphrase)\n",
    "                sequence = []\n",
    "                continue_flag = False\n",
    "            elif continue_flag == True and tag != \"O\":\n",
    "                sequence.append(token)\n",
    "                continue_flag = True\n",
    "            elif continue_flag == False and tag == \"O\":\n",
    "                continue\n",
    "            elif continue_flag == False and tag != \"O\":\n",
    "                sequence = []\n",
    "                sequence.append(token)\n",
    "                continue_flag = True\n",
    "        pred_list.append(keyphrase_list)\n",
    "    return pred_list"
   ]
  },
  {
   "cell_type": "code",
   "execution_count": 34,
   "metadata": {},
   "outputs": [],
   "source": [
    "def inference(model, test_report_list, max_seq_len=MAX_SEQ_LEN, tokenizer=tokenizer):\n",
    "    assert isinstance(test_report_list, list) or isinstance(test_report_list, pd.core.series.Series), f\"input이 {type(test_report_list)}임\"\n",
    "    \n",
    "    result_list = ner_prediction(model, test_report_list, max_seq_len=MAX_SEQ_LEN, tokenizer=tokenizer)   \n",
    "    predict_keyphrases_list = tag_to_sequence(result_list)\n",
    "    \n",
    "    return predict_keyphrases_list"
   ]
  },
  {
   "cell_type": "code",
   "execution_count": 35,
   "metadata": {},
   "outputs": [],
   "source": [
    "test_raw_df = pd.read_csv(\"../data/rawdata/GYRO_testset.csv\")"
   ]
  },
  {
   "cell_type": "code",
   "execution_count": 36,
   "metadata": {},
   "outputs": [
    {
     "name": "stderr",
     "output_type": "stream",
     "text": [
      "100% 1/1 [00:00<00:00, 122.81it/s]"
     ]
    },
    {
     "name": "stdout",
     "output_type": "stream",
     "text": [
      "1/1 [==============================] - 0s 122ms/step\n"
     ]
    },
    {
     "name": "stderr",
     "output_type": "stream",
     "text": [
      "\n"
     ]
    },
    {
     "data": {
      "text/plain": [
       "[['직각으로 표기되어 있음) Z3로 진입하여 관제사로부터 수정 지시를 받아 F7을 거쳐 F로 정상', '승무원']]"
      ]
     },
     "execution_count": 36,
     "metadata": {},
     "output_type": "execute_result"
    }
   ],
   "source": [
    "predict_keyphrases_list = inference(load_model, [test_raw_df[\"본문\"][0]])\n",
    "predict_keyphrases_list"
   ]
  },
  {
   "cell_type": "code",
   "execution_count": 37,
   "metadata": {},
   "outputs": [],
   "source": [
    "from sklearn.metrics import f1_score, precision_score, recall_score, classification_report, fbeta_score"
   ]
  },
  {
   "cell_type": "code",
   "execution_count": 38,
   "metadata": {},
   "outputs": [],
   "source": [
    "idx=0\n",
    "test_token_list = []\n",
    "test_tag_list = []\n",
    "\n",
    "prev_i = 0\n",
    "token_list = []\n",
    "tag_list = []\n",
    "        \n",
    "while idx < len(test_df):\n",
    "    if prev_i == test_df[\"i\"][idx]:\n",
    "        token_list.append(test_df[\"token\"][idx])\n",
    "        tag_list.append(test_df[\"tag\"][idx])\n",
    "    else:\n",
    "        test_token_list.append(token_list)\n",
    "        test_tag_list.append(tag_list)\n",
    "        token_list = []\n",
    "        token_list.append(test_df[\"token\"][idx])\n",
    "        tag_list = []\n",
    "        tag_list.append(test_df[\"tag\"][idx])\n",
    "        \n",
    "    prev_i = test_df[\"i\"][idx]\n",
    "    idx+=1\n",
    "test_token_list.append(token_list)\n",
    "test_tag_list.append(tag_list)"
   ]
  },
  {
   "cell_type": "code",
   "execution_count": 39,
   "metadata": {},
   "outputs": [
    {
     "name": "stderr",
     "output_type": "stream",
     "text": [
      "100% 219/219 [00:02<00:00, 103.06it/s]\n"
     ]
    },
    {
     "name": "stdout",
     "output_type": "stream",
     "text": [
      "7/7 [==============================] - 4s 522ms/step\n"
     ]
    }
   ],
   "source": [
    "result_list = ner_prediction(load_model, test_token_list, max_seq_len=MAX_SEQ_LEN, tokenizer=tokenizer, isTokenized=True)"
   ]
  },
  {
   "cell_type": "code",
   "execution_count": 40,
   "metadata": {},
   "outputs": [
    {
     "data": {
      "text/plain": [
       "0        O\n",
       "1        O\n",
       "2        O\n",
       "3        O\n",
       "4        O\n",
       "        ..\n",
       "29701    O\n",
       "29702    O\n",
       "29703    O\n",
       "29704    O\n",
       "29705    O\n",
       "Name: tag, Length: 29706, dtype: object"
      ]
     },
     "execution_count": 40,
     "metadata": {},
     "output_type": "execute_result"
    }
   ],
   "source": [
    "transformed_list = [label for sublist in result_list for _, label in sublist]\n",
    "test_df[\"tag\"]"
   ]
  },
  {
   "cell_type": "code",
   "execution_count": 41,
   "metadata": {},
   "outputs": [
    {
     "name": "stdout",
     "output_type": "stream",
     "text": [
      "0.798491887160843\n",
      "0.49294925560108416\n",
      "0.7480126172903924\n",
      "[0.85306866 0.13282985]\n",
      "0.13282985339848957\n"
     ]
    }
   ],
   "source": [
    "print(precision_score(test_df[\"tag\"], transformed_list, average=\"micro\"))\n",
    "print(precision_score(test_df[\"tag\"], transformed_list, average=\"macro\"))\n",
    "print(precision_score(test_df[\"tag\"], transformed_list, average=\"weighted\"))\n",
    "print(precision_score(test_df[\"tag\"], transformed_list, average=None))\n",
    "print(precision_score(test_df[\"tag\"], transformed_list, average='micro', labels=[\"key\"]))"
   ]
  },
  {
   "cell_type": "code",
   "execution_count": 42,
   "metadata": {},
   "outputs": [
    {
     "name": "stdout",
     "output_type": "stream",
     "text": [
      "0.798491887160843\n",
      "0.4960365680533857\n",
      "0.798491887160843\n",
      "[0.92306783 0.06900531]\n",
      "0.06900530810062312\n"
     ]
    }
   ],
   "source": [
    "print(recall_score(test_df[\"tag\"], transformed_list, average=\"micro\"))\n",
    "print(recall_score(test_df[\"tag\"], transformed_list, average=\"macro\"))\n",
    "print(recall_score(test_df[\"tag\"], transformed_list, average=\"weighted\"))\n",
    "print(recall_score(test_df[\"tag\"], transformed_list, average=None))\n",
    "print(recall_score(test_df[\"tag\"], transformed_list, average='micro', labels=[\"key\"]))"
   ]
  },
  {
   "cell_type": "code",
   "execution_count": 43,
   "metadata": {},
   "outputs": [
    {
     "name": "stdout",
     "output_type": "stream",
     "text": [
      "0.798491887160843\n",
      "0.48875756127706127\n",
      "0.7706021342636008\n",
      "[0.88668888 0.09082625]\n",
      "0.09082624544349939\n"
     ]
    }
   ],
   "source": [
    "print(f1_score(test_df[\"tag\"], transformed_list, average=\"micro\"))\n",
    "print(f1_score(test_df[\"tag\"], transformed_list, average=\"macro\"))\n",
    "print(f1_score(test_df[\"tag\"], transformed_list, average=\"weighted\"))\n",
    "print(f1_score(test_df[\"tag\"], transformed_list, average=None))\n",
    "print(f1_score(test_df[\"tag\"], transformed_list, average='micro', labels=[\"key\"]))"
   ]
  },
  {
   "cell_type": "code",
   "execution_count": 45,
   "metadata": {},
   "outputs": [
    {
     "name": "stdout",
     "output_type": "stream",
     "text": [
      "0.798491887160843\n",
      "0.4922527721045482\n",
      "0.7868319289013204\n",
      "[0.90816382 0.07634172]\n",
      "0.07634172496553132\n"
     ]
    }
   ],
   "source": [
    "print(fbeta_score(test_df[\"tag\"], transformed_list, beta=2, average=\"micro\"))\n",
    "print(fbeta_score(test_df[\"tag\"], transformed_list, beta=2, average=\"macro\"))\n",
    "print(fbeta_score(test_df[\"tag\"], transformed_list, beta=2, average=\"weighted\"))\n",
    "print(fbeta_score(test_df[\"tag\"], transformed_list, beta=2, average=None))\n",
    "print(fbeta_score(test_df[\"tag\"], transformed_list, beta=2, average='micro', labels=[\"key\"]))"
   ]
  },
  {
   "cell_type": "code",
   "execution_count": 46,
   "metadata": {},
   "outputs": [],
   "source": [
    "from sklearn.metrics import classification_report"
   ]
  },
  {
   "cell_type": "code",
   "execution_count": 47,
   "metadata": {},
   "outputs": [
    {
     "name": "stdout",
     "output_type": "stream",
     "text": [
      "              precision    recall  f1-score   support\n",
      "\n",
      "           O       0.85      0.92      0.89     25373\n",
      "         key       0.13      0.07      0.09      4333\n",
      "\n",
      "    accuracy                           0.80     29706\n",
      "   macro avg       0.49      0.50      0.49     29706\n",
      "weighted avg       0.75      0.80      0.77     29706\n",
      "\n"
     ]
    }
   ],
   "source": [
    "print(classification_report(test_df[\"tag\"], transformed_list, output_dict=False, target_names=['O', 'key']))"
   ]
  },
  {
   "cell_type": "code",
   "execution_count": 48,
   "metadata": {},
   "outputs": [],
   "source": [
    "exit()"
   ]
  },
  {
   "cell_type": "code",
   "execution_count": null,
   "metadata": {},
   "outputs": [],
   "source": []
  },
  {
   "cell_type": "code",
   "execution_count": null,
   "metadata": {},
   "outputs": [],
   "source": []
  }
 ],
 "metadata": {
  "accelerator": "TPU",
  "colab": {
   "provenance": []
  },
  "gpuClass": "standard",
  "kernelspec": {
   "display_name": "Python 3 (ipykernel)",
   "language": "python",
   "name": "python3"
  },
  "language_info": {
   "codemirror_mode": {
    "name": "ipython",
    "version": 3
   },
   "file_extension": ".py",
   "mimetype": "text/x-python",
   "name": "python",
   "nbconvert_exporter": "python",
   "pygments_lexer": "ipython3",
   "version": "3.8.10"
  },
  "widgets": {
   "application/vnd.jupyter.widget-state+json": {
    "0066a2a5bcab4cf082bf11f0f3cc8c43": {
     "model_module": "@jupyter-widgets/controls",
     "model_module_version": "1.5.0",
     "model_name": "DescriptionStyleModel",
     "state": {
      "_model_module": "@jupyter-widgets/controls",
      "_model_module_version": "1.5.0",
      "_model_name": "DescriptionStyleModel",
      "_view_count": null,
      "_view_module": "@jupyter-widgets/base",
      "_view_module_version": "1.2.0",
      "_view_name": "StyleView",
      "description_width": ""
     }
    },
    "04061c05f31445e195d1a1f7cf0f7262": {
     "model_module": "@jupyter-widgets/controls",
     "model_module_version": "1.5.0",
     "model_name": "DescriptionStyleModel",
     "state": {
      "_model_module": "@jupyter-widgets/controls",
      "_model_module_version": "1.5.0",
      "_model_name": "DescriptionStyleModel",
      "_view_count": null,
      "_view_module": "@jupyter-widgets/base",
      "_view_module_version": "1.2.0",
      "_view_name": "StyleView",
      "description_width": ""
     }
    },
    "078a7c7ca47c4c21a96600ede1c1fcb3": {
     "model_module": "@jupyter-widgets/controls",
     "model_module_version": "1.5.0",
     "model_name": "HTMLModel",
     "state": {
      "_dom_classes": [],
      "_model_module": "@jupyter-widgets/controls",
      "_model_module_version": "1.5.0",
      "_model_name": "HTMLModel",
      "_view_count": null,
      "_view_module": "@jupyter-widgets/controls",
      "_view_module_version": "1.5.0",
      "_view_name": "HTMLView",
      "description": "",
      "description_tooltip": null,
      "layout": "IPY_MODEL_e1cb867f7d294346b2dd3beb6ce22de8",
      "placeholder": "​",
      "style": "IPY_MODEL_947f2da83e5048268c8284b9558990e4",
      "value": " 445M/445M [00:07&lt;00:00, 59.9MB/s]"
     }
    },
    "0fc82de2fac24f11b5e6d468c0f95f85": {
     "model_module": "@jupyter-widgets/controls",
     "model_module_version": "1.5.0",
     "model_name": "HBoxModel",
     "state": {
      "_dom_classes": [],
      "_model_module": "@jupyter-widgets/controls",
      "_model_module_version": "1.5.0",
      "_model_name": "HBoxModel",
      "_view_count": null,
      "_view_module": "@jupyter-widgets/controls",
      "_view_module_version": "1.5.0",
      "_view_name": "HBoxView",
      "box_style": "",
      "children": [
       "IPY_MODEL_66cd26ac219e49b29153655b450c9ebc",
       "IPY_MODEL_c95439aaa3b84954a758401ea8b57d34",
       "IPY_MODEL_078a7c7ca47c4c21a96600ede1c1fcb3"
      ],
      "layout": "IPY_MODEL_24049ef5eb26423491be174b2f89696d"
     }
    },
    "13356c33bf264e6296e7d72d8d3989cc": {
     "model_module": "@jupyter-widgets/controls",
     "model_module_version": "1.5.0",
     "model_name": "ProgressStyleModel",
     "state": {
      "_model_module": "@jupyter-widgets/controls",
      "_model_module_version": "1.5.0",
      "_model_name": "ProgressStyleModel",
      "_view_count": null,
      "_view_module": "@jupyter-widgets/base",
      "_view_module_version": "1.2.0",
      "_view_name": "StyleView",
      "bar_color": null,
      "description_width": ""
     }
    },
    "16cbbdd83f7d4259aa1de57a8bac5c50": {
     "model_module": "@jupyter-widgets/controls",
     "model_module_version": "1.5.0",
     "model_name": "FloatProgressModel",
     "state": {
      "_dom_classes": [],
      "_model_module": "@jupyter-widgets/controls",
      "_model_module_version": "1.5.0",
      "_model_name": "FloatProgressModel",
      "_view_count": null,
      "_view_module": "@jupyter-widgets/controls",
      "_view_module_version": "1.5.0",
      "_view_name": "ProgressView",
      "bar_style": "success",
      "description": "",
      "description_tooltip": null,
      "layout": "IPY_MODEL_cc78cbe3b64b4b5bb84ea2f77ba63d8e",
      "max": 425,
      "min": 0,
      "orientation": "horizontal",
      "style": "IPY_MODEL_3e6aaf6ae19b473082870d62d649460a",
      "value": 425
     }
    },
    "23339d556eec442098f6cad12e20ade6": {
     "model_module": "@jupyter-widgets/controls",
     "model_module_version": "1.5.0",
     "model_name": "FloatProgressModel",
     "state": {
      "_dom_classes": [],
      "_model_module": "@jupyter-widgets/controls",
      "_model_module_version": "1.5.0",
      "_model_name": "FloatProgressModel",
      "_view_count": null,
      "_view_module": "@jupyter-widgets/controls",
      "_view_module_version": "1.5.0",
      "_view_name": "ProgressView",
      "bar_style": "success",
      "description": "",
      "description_tooltip": null,
      "layout": "IPY_MODEL_6c730c1dc6064399a2db5ed1a71d565c",
      "max": 289,
      "min": 0,
      "orientation": "horizontal",
      "style": "IPY_MODEL_f9c3945c1311441191e09eca5815cb60",
      "value": 289
     }
    },
    "24049ef5eb26423491be174b2f89696d": {
     "model_module": "@jupyter-widgets/base",
     "model_module_version": "1.2.0",
     "model_name": "LayoutModel",
     "state": {
      "_model_module": "@jupyter-widgets/base",
      "_model_module_version": "1.2.0",
      "_model_name": "LayoutModel",
      "_view_count": null,
      "_view_module": "@jupyter-widgets/base",
      "_view_module_version": "1.2.0",
      "_view_name": "LayoutView",
      "align_content": null,
      "align_items": null,
      "align_self": null,
      "border": null,
      "bottom": null,
      "display": null,
      "flex": null,
      "flex_flow": null,
      "grid_area": null,
      "grid_auto_columns": null,
      "grid_auto_flow": null,
      "grid_auto_rows": null,
      "grid_column": null,
      "grid_gap": null,
      "grid_row": null,
      "grid_template_areas": null,
      "grid_template_columns": null,
      "grid_template_rows": null,
      "height": null,
      "justify_content": null,
      "justify_items": null,
      "left": null,
      "margin": null,
      "max_height": null,
      "max_width": null,
      "min_height": null,
      "min_width": null,
      "object_fit": null,
      "object_position": null,
      "order": null,
      "overflow": null,
      "overflow_x": null,
      "overflow_y": null,
      "padding": null,
      "right": null,
      "top": null,
      "visibility": null,
      "width": null
     }
    },
    "289796914587471cbc355d4266c14fd4": {
     "model_module": "@jupyter-widgets/controls",
     "model_module_version": "1.5.0",
     "model_name": "DescriptionStyleModel",
     "state": {
      "_model_module": "@jupyter-widgets/controls",
      "_model_module_version": "1.5.0",
      "_model_name": "DescriptionStyleModel",
      "_view_count": null,
      "_view_module": "@jupyter-widgets/base",
      "_view_module_version": "1.2.0",
      "_view_name": "StyleView",
      "description_width": ""
     }
    },
    "314195c0fecb424994dde1fa9987fe5e": {
     "model_module": "@jupyter-widgets/base",
     "model_module_version": "1.2.0",
     "model_name": "LayoutModel",
     "state": {
      "_model_module": "@jupyter-widgets/base",
      "_model_module_version": "1.2.0",
      "_model_name": "LayoutModel",
      "_view_count": null,
      "_view_module": "@jupyter-widgets/base",
      "_view_module_version": "1.2.0",
      "_view_name": "LayoutView",
      "align_content": null,
      "align_items": null,
      "align_self": null,
      "border": null,
      "bottom": null,
      "display": null,
      "flex": null,
      "flex_flow": null,
      "grid_area": null,
      "grid_auto_columns": null,
      "grid_auto_flow": null,
      "grid_auto_rows": null,
      "grid_column": null,
      "grid_gap": null,
      "grid_row": null,
      "grid_template_areas": null,
      "grid_template_columns": null,
      "grid_template_rows": null,
      "height": null,
      "justify_content": null,
      "justify_items": null,
      "left": null,
      "margin": null,
      "max_height": null,
      "max_width": null,
      "min_height": null,
      "min_width": null,
      "object_fit": null,
      "object_position": null,
      "order": null,
      "overflow": null,
      "overflow_x": null,
      "overflow_y": null,
      "padding": null,
      "right": null,
      "top": null,
      "visibility": null,
      "width": null
     }
    },
    "38271b4335264a628d26d29071de73ff": {
     "model_module": "@jupyter-widgets/base",
     "model_module_version": "1.2.0",
     "model_name": "LayoutModel",
     "state": {
      "_model_module": "@jupyter-widgets/base",
      "_model_module_version": "1.2.0",
      "_model_name": "LayoutModel",
      "_view_count": null,
      "_view_module": "@jupyter-widgets/base",
      "_view_module_version": "1.2.0",
      "_view_name": "LayoutView",
      "align_content": null,
      "align_items": null,
      "align_self": null,
      "border": null,
      "bottom": null,
      "display": null,
      "flex": null,
      "flex_flow": null,
      "grid_area": null,
      "grid_auto_columns": null,
      "grid_auto_flow": null,
      "grid_auto_rows": null,
      "grid_column": null,
      "grid_gap": null,
      "grid_row": null,
      "grid_template_areas": null,
      "grid_template_columns": null,
      "grid_template_rows": null,
      "height": null,
      "justify_content": null,
      "justify_items": null,
      "left": null,
      "margin": null,
      "max_height": null,
      "max_width": null,
      "min_height": null,
      "min_width": null,
      "object_fit": null,
      "object_position": null,
      "order": null,
      "overflow": null,
      "overflow_x": null,
      "overflow_y": null,
      "padding": null,
      "right": null,
      "top": null,
      "visibility": null,
      "width": null
     }
    },
    "385b6e5058d94feb95e16ca2ad09026e": {
     "model_module": "@jupyter-widgets/controls",
     "model_module_version": "1.5.0",
     "model_name": "DescriptionStyleModel",
     "state": {
      "_model_module": "@jupyter-widgets/controls",
      "_model_module_version": "1.5.0",
      "_model_name": "DescriptionStyleModel",
      "_view_count": null,
      "_view_module": "@jupyter-widgets/base",
      "_view_module_version": "1.2.0",
      "_view_name": "StyleView",
      "description_width": ""
     }
    },
    "3e6aaf6ae19b473082870d62d649460a": {
     "model_module": "@jupyter-widgets/controls",
     "model_module_version": "1.5.0",
     "model_name": "ProgressStyleModel",
     "state": {
      "_model_module": "@jupyter-widgets/controls",
      "_model_module_version": "1.5.0",
      "_model_name": "ProgressStyleModel",
      "_view_count": null,
      "_view_module": "@jupyter-widgets/base",
      "_view_module_version": "1.2.0",
      "_view_name": "StyleView",
      "bar_color": null,
      "description_width": ""
     }
    },
    "41cd261c88f24bf2bc1f89d26e275c4b": {
     "model_module": "@jupyter-widgets/controls",
     "model_module_version": "1.5.0",
     "model_name": "HTMLModel",
     "state": {
      "_dom_classes": [],
      "_model_module": "@jupyter-widgets/controls",
      "_model_module_version": "1.5.0",
      "_model_name": "HTMLModel",
      "_view_count": null,
      "_view_module": "@jupyter-widgets/controls",
      "_view_module_version": "1.5.0",
      "_view_name": "HTMLView",
      "description": "",
      "description_tooltip": null,
      "layout": "IPY_MODEL_969cc8a7ef8f4f5b9e8537c34566ea35",
      "placeholder": "​",
      "style": "IPY_MODEL_41e9ca0b58cd4e7cbf56d9ed6da7490f",
      "value": "Downloading: 100%"
     }
    },
    "41e9ca0b58cd4e7cbf56d9ed6da7490f": {
     "model_module": "@jupyter-widgets/controls",
     "model_module_version": "1.5.0",
     "model_name": "DescriptionStyleModel",
     "state": {
      "_model_module": "@jupyter-widgets/controls",
      "_model_module_version": "1.5.0",
      "_model_name": "DescriptionStyleModel",
      "_view_count": null,
      "_view_module": "@jupyter-widgets/base",
      "_view_module_version": "1.2.0",
      "_view_name": "StyleView",
      "description_width": ""
     }
    },
    "456df8552b464cc8aac87ec3efc3afdd": {
     "model_module": "@jupyter-widgets/base",
     "model_module_version": "1.2.0",
     "model_name": "LayoutModel",
     "state": {
      "_model_module": "@jupyter-widgets/base",
      "_model_module_version": "1.2.0",
      "_model_name": "LayoutModel",
      "_view_count": null,
      "_view_module": "@jupyter-widgets/base",
      "_view_module_version": "1.2.0",
      "_view_name": "LayoutView",
      "align_content": null,
      "align_items": null,
      "align_self": null,
      "border": null,
      "bottom": null,
      "display": null,
      "flex": null,
      "flex_flow": null,
      "grid_area": null,
      "grid_auto_columns": null,
      "grid_auto_flow": null,
      "grid_auto_rows": null,
      "grid_column": null,
      "grid_gap": null,
      "grid_row": null,
      "grid_template_areas": null,
      "grid_template_columns": null,
      "grid_template_rows": null,
      "height": null,
      "justify_content": null,
      "justify_items": null,
      "left": null,
      "margin": null,
      "max_height": null,
      "max_width": null,
      "min_height": null,
      "min_width": null,
      "object_fit": null,
      "object_position": null,
      "order": null,
      "overflow": null,
      "overflow_x": null,
      "overflow_y": null,
      "padding": null,
      "right": null,
      "top": null,
      "visibility": null,
      "width": null
     }
    },
    "48610ce4a155438bb92577fba42cfd7b": {
     "model_module": "@jupyter-widgets/controls",
     "model_module_version": "1.5.0",
     "model_name": "FloatProgressModel",
     "state": {
      "_dom_classes": [],
      "_model_module": "@jupyter-widgets/controls",
      "_model_module_version": "1.5.0",
      "_model_name": "FloatProgressModel",
      "_view_count": null,
      "_view_module": "@jupyter-widgets/controls",
      "_view_module_version": "1.5.0",
      "_view_name": "ProgressView",
      "bar_style": "success",
      "description": "",
      "description_tooltip": null,
      "layout": "IPY_MODEL_def18f6d71004f43996a6fb1e5f49e6c",
      "max": 248477,
      "min": 0,
      "orientation": "horizontal",
      "style": "IPY_MODEL_e068c86dd3924710913066e1e1b99332",
      "value": 248477
     }
    },
    "4a1f53804286472881a541b6ea6218d3": {
     "model_module": "@jupyter-widgets/base",
     "model_module_version": "1.2.0",
     "model_name": "LayoutModel",
     "state": {
      "_model_module": "@jupyter-widgets/base",
      "_model_module_version": "1.2.0",
      "_model_name": "LayoutModel",
      "_view_count": null,
      "_view_module": "@jupyter-widgets/base",
      "_view_module_version": "1.2.0",
      "_view_name": "LayoutView",
      "align_content": null,
      "align_items": null,
      "align_self": null,
      "border": null,
      "bottom": null,
      "display": null,
      "flex": null,
      "flex_flow": null,
      "grid_area": null,
      "grid_auto_columns": null,
      "grid_auto_flow": null,
      "grid_auto_rows": null,
      "grid_column": null,
      "grid_gap": null,
      "grid_row": null,
      "grid_template_areas": null,
      "grid_template_columns": null,
      "grid_template_rows": null,
      "height": null,
      "justify_content": null,
      "justify_items": null,
      "left": null,
      "margin": null,
      "max_height": null,
      "max_width": null,
      "min_height": null,
      "min_width": null,
      "object_fit": null,
      "object_position": null,
      "order": null,
      "overflow": null,
      "overflow_x": null,
      "overflow_y": null,
      "padding": null,
      "right": null,
      "top": null,
      "visibility": null,
      "width": null
     }
    },
    "4e6977f9720648dda0411463ac80c230": {
     "model_module": "@jupyter-widgets/base",
     "model_module_version": "1.2.0",
     "model_name": "LayoutModel",
     "state": {
      "_model_module": "@jupyter-widgets/base",
      "_model_module_version": "1.2.0",
      "_model_name": "LayoutModel",
      "_view_count": null,
      "_view_module": "@jupyter-widgets/base",
      "_view_module_version": "1.2.0",
      "_view_name": "LayoutView",
      "align_content": null,
      "align_items": null,
      "align_self": null,
      "border": null,
      "bottom": null,
      "display": null,
      "flex": null,
      "flex_flow": null,
      "grid_area": null,
      "grid_auto_columns": null,
      "grid_auto_flow": null,
      "grid_auto_rows": null,
      "grid_column": null,
      "grid_gap": null,
      "grid_row": null,
      "grid_template_areas": null,
      "grid_template_columns": null,
      "grid_template_rows": null,
      "height": null,
      "justify_content": null,
      "justify_items": null,
      "left": null,
      "margin": null,
      "max_height": null,
      "max_width": null,
      "min_height": null,
      "min_width": null,
      "object_fit": null,
      "object_position": null,
      "order": null,
      "overflow": null,
      "overflow_x": null,
      "overflow_y": null,
      "padding": null,
      "right": null,
      "top": null,
      "visibility": null,
      "width": null
     }
    },
    "4f77129738c4450292965e465fe7f9dc": {
     "model_module": "@jupyter-widgets/base",
     "model_module_version": "1.2.0",
     "model_name": "LayoutModel",
     "state": {
      "_model_module": "@jupyter-widgets/base",
      "_model_module_version": "1.2.0",
      "_model_name": "LayoutModel",
      "_view_count": null,
      "_view_module": "@jupyter-widgets/base",
      "_view_module_version": "1.2.0",
      "_view_name": "LayoutView",
      "align_content": null,
      "align_items": null,
      "align_self": null,
      "border": null,
      "bottom": null,
      "display": null,
      "flex": null,
      "flex_flow": null,
      "grid_area": null,
      "grid_auto_columns": null,
      "grid_auto_flow": null,
      "grid_auto_rows": null,
      "grid_column": null,
      "grid_gap": null,
      "grid_row": null,
      "grid_template_areas": null,
      "grid_template_columns": null,
      "grid_template_rows": null,
      "height": null,
      "justify_content": null,
      "justify_items": null,
      "left": null,
      "margin": null,
      "max_height": null,
      "max_width": null,
      "min_height": null,
      "min_width": null,
      "object_fit": null,
      "object_position": null,
      "order": null,
      "overflow": null,
      "overflow_x": null,
      "overflow_y": null,
      "padding": null,
      "right": null,
      "top": null,
      "visibility": null,
      "width": null
     }
    },
    "518f055f51b24d4faec9004175c06c21": {
     "model_module": "@jupyter-widgets/base",
     "model_module_version": "1.2.0",
     "model_name": "LayoutModel",
     "state": {
      "_model_module": "@jupyter-widgets/base",
      "_model_module_version": "1.2.0",
      "_model_name": "LayoutModel",
      "_view_count": null,
      "_view_module": "@jupyter-widgets/base",
      "_view_module_version": "1.2.0",
      "_view_name": "LayoutView",
      "align_content": null,
      "align_items": null,
      "align_self": null,
      "border": null,
      "bottom": null,
      "display": null,
      "flex": null,
      "flex_flow": null,
      "grid_area": null,
      "grid_auto_columns": null,
      "grid_auto_flow": null,
      "grid_auto_rows": null,
      "grid_column": null,
      "grid_gap": null,
      "grid_row": null,
      "grid_template_areas": null,
      "grid_template_columns": null,
      "grid_template_rows": null,
      "height": null,
      "justify_content": null,
      "justify_items": null,
      "left": null,
      "margin": null,
      "max_height": null,
      "max_width": null,
      "min_height": null,
      "min_width": null,
      "object_fit": null,
      "object_position": null,
      "order": null,
      "overflow": null,
      "overflow_x": null,
      "overflow_y": null,
      "padding": null,
      "right": null,
      "top": null,
      "visibility": null,
      "width": null
     }
    },
    "624a0a96f8154247bf286402404bea0d": {
     "model_module": "@jupyter-widgets/base",
     "model_module_version": "1.2.0",
     "model_name": "LayoutModel",
     "state": {
      "_model_module": "@jupyter-widgets/base",
      "_model_module_version": "1.2.0",
      "_model_name": "LayoutModel",
      "_view_count": null,
      "_view_module": "@jupyter-widgets/base",
      "_view_module_version": "1.2.0",
      "_view_name": "LayoutView",
      "align_content": null,
      "align_items": null,
      "align_self": null,
      "border": null,
      "bottom": null,
      "display": null,
      "flex": null,
      "flex_flow": null,
      "grid_area": null,
      "grid_auto_columns": null,
      "grid_auto_flow": null,
      "grid_auto_rows": null,
      "grid_column": null,
      "grid_gap": null,
      "grid_row": null,
      "grid_template_areas": null,
      "grid_template_columns": null,
      "grid_template_rows": null,
      "height": null,
      "justify_content": null,
      "justify_items": null,
      "left": null,
      "margin": null,
      "max_height": null,
      "max_width": null,
      "min_height": null,
      "min_width": null,
      "object_fit": null,
      "object_position": null,
      "order": null,
      "overflow": null,
      "overflow_x": null,
      "overflow_y": null,
      "padding": null,
      "right": null,
      "top": null,
      "visibility": null,
      "width": null
     }
    },
    "66cd26ac219e49b29153655b450c9ebc": {
     "model_module": "@jupyter-widgets/controls",
     "model_module_version": "1.5.0",
     "model_name": "HTMLModel",
     "state": {
      "_dom_classes": [],
      "_model_module": "@jupyter-widgets/controls",
      "_model_module_version": "1.5.0",
      "_model_name": "HTMLModel",
      "_view_count": null,
      "_view_module": "@jupyter-widgets/controls",
      "_view_module_version": "1.5.0",
      "_view_name": "HTMLView",
      "description": "",
      "description_tooltip": null,
      "layout": "IPY_MODEL_fdbbb63a10b34bb1ad9b4d114fe6ae2b",
      "placeholder": "​",
      "style": "IPY_MODEL_0066a2a5bcab4cf082bf11f0f3cc8c43",
      "value": "Downloading: 100%"
     }
    },
    "6c730c1dc6064399a2db5ed1a71d565c": {
     "model_module": "@jupyter-widgets/base",
     "model_module_version": "1.2.0",
     "model_name": "LayoutModel",
     "state": {
      "_model_module": "@jupyter-widgets/base",
      "_model_module_version": "1.2.0",
      "_model_name": "LayoutModel",
      "_view_count": null,
      "_view_module": "@jupyter-widgets/base",
      "_view_module_version": "1.2.0",
      "_view_name": "LayoutView",
      "align_content": null,
      "align_items": null,
      "align_self": null,
      "border": null,
      "bottom": null,
      "display": null,
      "flex": null,
      "flex_flow": null,
      "grid_area": null,
      "grid_auto_columns": null,
      "grid_auto_flow": null,
      "grid_auto_rows": null,
      "grid_column": null,
      "grid_gap": null,
      "grid_row": null,
      "grid_template_areas": null,
      "grid_template_columns": null,
      "grid_template_rows": null,
      "height": null,
      "justify_content": null,
      "justify_items": null,
      "left": null,
      "margin": null,
      "max_height": null,
      "max_width": null,
      "min_height": null,
      "min_width": null,
      "object_fit": null,
      "object_position": null,
      "order": null,
      "overflow": null,
      "overflow_x": null,
      "overflow_y": null,
      "padding": null,
      "right": null,
      "top": null,
      "visibility": null,
      "width": null
     }
    },
    "6c7e6eaab946481283652b61ef06c7bd": {
     "model_module": "@jupyter-widgets/controls",
     "model_module_version": "1.5.0",
     "model_name": "DescriptionStyleModel",
     "state": {
      "_model_module": "@jupyter-widgets/controls",
      "_model_module_version": "1.5.0",
      "_model_name": "DescriptionStyleModel",
      "_view_count": null,
      "_view_module": "@jupyter-widgets/base",
      "_view_module_version": "1.2.0",
      "_view_name": "StyleView",
      "description_width": ""
     }
    },
    "738a454df9cf4c43bff622448b37d91a": {
     "model_module": "@jupyter-widgets/controls",
     "model_module_version": "1.5.0",
     "model_name": "HTMLModel",
     "state": {
      "_dom_classes": [],
      "_model_module": "@jupyter-widgets/controls",
      "_model_module_version": "1.5.0",
      "_model_name": "HTMLModel",
      "_view_count": null,
      "_view_module": "@jupyter-widgets/controls",
      "_view_module_version": "1.5.0",
      "_view_name": "HTMLView",
      "description": "",
      "description_tooltip": null,
      "layout": "IPY_MODEL_4a1f53804286472881a541b6ea6218d3",
      "placeholder": "​",
      "style": "IPY_MODEL_6c7e6eaab946481283652b61ef06c7bd",
      "value": " 248k/248k [00:00&lt;00:00, 8.49kB/s]"
     }
    },
    "7984e3f9150f449a93e388b380c74c0b": {
     "model_module": "@jupyter-widgets/controls",
     "model_module_version": "1.5.0",
     "model_name": "HTMLModel",
     "state": {
      "_dom_classes": [],
      "_model_module": "@jupyter-widgets/controls",
      "_model_module_version": "1.5.0",
      "_model_name": "HTMLModel",
      "_view_count": null,
      "_view_module": "@jupyter-widgets/controls",
      "_view_module_version": "1.5.0",
      "_view_name": "HTMLView",
      "description": "",
      "description_tooltip": null,
      "layout": "IPY_MODEL_d86996c44be3472096c2a64cb57f9a56",
      "placeholder": "​",
      "style": "IPY_MODEL_d93b862729c5404c8b0ff3c315eeb527",
      "value": "Downloading: 100%"
     }
    },
    "81529843e1be4607957bf481ca88456d": {
     "model_module": "@jupyter-widgets/controls",
     "model_module_version": "1.5.0",
     "model_name": "HBoxModel",
     "state": {
      "_dom_classes": [],
      "_model_module": "@jupyter-widgets/controls",
      "_model_module_version": "1.5.0",
      "_model_name": "HBoxModel",
      "_view_count": null,
      "_view_module": "@jupyter-widgets/controls",
      "_view_module_version": "1.5.0",
      "_view_name": "HBoxView",
      "box_style": "",
      "children": [
       "IPY_MODEL_7984e3f9150f449a93e388b380c74c0b",
       "IPY_MODEL_48610ce4a155438bb92577fba42cfd7b",
       "IPY_MODEL_738a454df9cf4c43bff622448b37d91a"
      ],
      "layout": "IPY_MODEL_8441e7b6494e462da46b663e00ab9857"
     }
    },
    "8441e7b6494e462da46b663e00ab9857": {
     "model_module": "@jupyter-widgets/base",
     "model_module_version": "1.2.0",
     "model_name": "LayoutModel",
     "state": {
      "_model_module": "@jupyter-widgets/base",
      "_model_module_version": "1.2.0",
      "_model_name": "LayoutModel",
      "_view_count": null,
      "_view_module": "@jupyter-widgets/base",
      "_view_module_version": "1.2.0",
      "_view_name": "LayoutView",
      "align_content": null,
      "align_items": null,
      "align_self": null,
      "border": null,
      "bottom": null,
      "display": null,
      "flex": null,
      "flex_flow": null,
      "grid_area": null,
      "grid_auto_columns": null,
      "grid_auto_flow": null,
      "grid_auto_rows": null,
      "grid_column": null,
      "grid_gap": null,
      "grid_row": null,
      "grid_template_areas": null,
      "grid_template_columns": null,
      "grid_template_rows": null,
      "height": null,
      "justify_content": null,
      "justify_items": null,
      "left": null,
      "margin": null,
      "max_height": null,
      "max_width": null,
      "min_height": null,
      "min_width": null,
      "object_fit": null,
      "object_position": null,
      "order": null,
      "overflow": null,
      "overflow_x": null,
      "overflow_y": null,
      "padding": null,
      "right": null,
      "top": null,
      "visibility": null,
      "width": null
     }
    },
    "899c67dda1a644a28ba8e0723273b4ce": {
     "model_module": "@jupyter-widgets/controls",
     "model_module_version": "1.5.0",
     "model_name": "HBoxModel",
     "state": {
      "_dom_classes": [],
      "_model_module": "@jupyter-widgets/controls",
      "_model_module_version": "1.5.0",
      "_model_name": "HBoxModel",
      "_view_count": null,
      "_view_module": "@jupyter-widgets/controls",
      "_view_module_version": "1.5.0",
      "_view_name": "HBoxView",
      "box_style": "",
      "children": [
       "IPY_MODEL_41cd261c88f24bf2bc1f89d26e275c4b",
       "IPY_MODEL_dd9dbf337cdd467b9c5c37e6eae4c015",
       "IPY_MODEL_c6ae0bc684f74884ab5065f788b78b0f"
      ],
      "layout": "IPY_MODEL_38271b4335264a628d26d29071de73ff"
     }
    },
    "8a318af6717e4c3c86070c9ddd0f167f": {
     "model_module": "@jupyter-widgets/controls",
     "model_module_version": "1.5.0",
     "model_name": "HTMLModel",
     "state": {
      "_dom_classes": [],
      "_model_module": "@jupyter-widgets/controls",
      "_model_module_version": "1.5.0",
      "_model_name": "HTMLModel",
      "_view_count": null,
      "_view_module": "@jupyter-widgets/controls",
      "_view_module_version": "1.5.0",
      "_view_name": "HTMLView",
      "description": "",
      "description_tooltip": null,
      "layout": "IPY_MODEL_518f055f51b24d4faec9004175c06c21",
      "placeholder": "​",
      "style": "IPY_MODEL_289796914587471cbc355d4266c14fd4",
      "value": "Downloading: 100%"
     }
    },
    "8cab231c53a9487f87e5d9ab9b5eabdf": {
     "model_module": "@jupyter-widgets/controls",
     "model_module_version": "1.5.0",
     "model_name": "HBoxModel",
     "state": {
      "_dom_classes": [],
      "_model_module": "@jupyter-widgets/controls",
      "_model_module_version": "1.5.0",
      "_model_name": "HBoxModel",
      "_view_count": null,
      "_view_module": "@jupyter-widgets/controls",
      "_view_module_version": "1.5.0",
      "_view_name": "HBoxView",
      "box_style": "",
      "children": [
       "IPY_MODEL_8a318af6717e4c3c86070c9ddd0f167f",
       "IPY_MODEL_23339d556eec442098f6cad12e20ade6",
       "IPY_MODEL_cc8146feee744ceba6ef0f6326df955c"
      ],
      "layout": "IPY_MODEL_4e6977f9720648dda0411463ac80c230"
     }
    },
    "947f2da83e5048268c8284b9558990e4": {
     "model_module": "@jupyter-widgets/controls",
     "model_module_version": "1.5.0",
     "model_name": "DescriptionStyleModel",
     "state": {
      "_model_module": "@jupyter-widgets/controls",
      "_model_module_version": "1.5.0",
      "_model_name": "DescriptionStyleModel",
      "_view_count": null,
      "_view_module": "@jupyter-widgets/base",
      "_view_module_version": "1.2.0",
      "_view_name": "StyleView",
      "description_width": ""
     }
    },
    "94e379f9222242cbae95eb764e48bf1f": {
     "model_module": "@jupyter-widgets/controls",
     "model_module_version": "1.5.0",
     "model_name": "ProgressStyleModel",
     "state": {
      "_model_module": "@jupyter-widgets/controls",
      "_model_module_version": "1.5.0",
      "_model_name": "ProgressStyleModel",
      "_view_count": null,
      "_view_module": "@jupyter-widgets/base",
      "_view_module_version": "1.2.0",
      "_view_name": "StyleView",
      "bar_color": null,
      "description_width": ""
     }
    },
    "969cc8a7ef8f4f5b9e8537c34566ea35": {
     "model_module": "@jupyter-widgets/base",
     "model_module_version": "1.2.0",
     "model_name": "LayoutModel",
     "state": {
      "_model_module": "@jupyter-widgets/base",
      "_model_module_version": "1.2.0",
      "_model_name": "LayoutModel",
      "_view_count": null,
      "_view_module": "@jupyter-widgets/base",
      "_view_module_version": "1.2.0",
      "_view_name": "LayoutView",
      "align_content": null,
      "align_items": null,
      "align_self": null,
      "border": null,
      "bottom": null,
      "display": null,
      "flex": null,
      "flex_flow": null,
      "grid_area": null,
      "grid_auto_columns": null,
      "grid_auto_flow": null,
      "grid_auto_rows": null,
      "grid_column": null,
      "grid_gap": null,
      "grid_row": null,
      "grid_template_areas": null,
      "grid_template_columns": null,
      "grid_template_rows": null,
      "height": null,
      "justify_content": null,
      "justify_items": null,
      "left": null,
      "margin": null,
      "max_height": null,
      "max_width": null,
      "min_height": null,
      "min_width": null,
      "object_fit": null,
      "object_position": null,
      "order": null,
      "overflow": null,
      "overflow_x": null,
      "overflow_y": null,
      "padding": null,
      "right": null,
      "top": null,
      "visibility": null,
      "width": null
     }
    },
    "a218c4a5a0044ac18e866f5f8222b500": {
     "model_module": "@jupyter-widgets/controls",
     "model_module_version": "1.5.0",
     "model_name": "HTMLModel",
     "state": {
      "_dom_classes": [],
      "_model_module": "@jupyter-widgets/controls",
      "_model_module_version": "1.5.0",
      "_model_name": "HTMLModel",
      "_view_count": null,
      "_view_module": "@jupyter-widgets/controls",
      "_view_module_version": "1.5.0",
      "_view_name": "HTMLView",
      "description": "",
      "description_tooltip": null,
      "layout": "IPY_MODEL_624a0a96f8154247bf286402404bea0d",
      "placeholder": "​",
      "style": "IPY_MODEL_04061c05f31445e195d1a1f7cf0f7262",
      "value": " 425/425 [00:00&lt;00:00, 7.77kB/s]"
     }
    },
    "acf994a790b3428c9f0bee7942f06aa1": {
     "model_module": "@jupyter-widgets/controls",
     "model_module_version": "1.5.0",
     "model_name": "HBoxModel",
     "state": {
      "_dom_classes": [],
      "_model_module": "@jupyter-widgets/controls",
      "_model_module_version": "1.5.0",
      "_model_name": "HBoxModel",
      "_view_count": null,
      "_view_module": "@jupyter-widgets/controls",
      "_view_module_version": "1.5.0",
      "_view_name": "HBoxView",
      "box_style": "",
      "children": [
       "IPY_MODEL_f66d9ba367034530b46f0c31b88806a2",
       "IPY_MODEL_16cbbdd83f7d4259aa1de57a8bac5c50",
       "IPY_MODEL_a218c4a5a0044ac18e866f5f8222b500"
      ],
      "layout": "IPY_MODEL_b315137c6c5e4456a23c3265eed24b81"
     }
    },
    "b315137c6c5e4456a23c3265eed24b81": {
     "model_module": "@jupyter-widgets/base",
     "model_module_version": "1.2.0",
     "model_name": "LayoutModel",
     "state": {
      "_model_module": "@jupyter-widgets/base",
      "_model_module_version": "1.2.0",
      "_model_name": "LayoutModel",
      "_view_count": null,
      "_view_module": "@jupyter-widgets/base",
      "_view_module_version": "1.2.0",
      "_view_name": "LayoutView",
      "align_content": null,
      "align_items": null,
      "align_self": null,
      "border": null,
      "bottom": null,
      "display": null,
      "flex": null,
      "flex_flow": null,
      "grid_area": null,
      "grid_auto_columns": null,
      "grid_auto_flow": null,
      "grid_auto_rows": null,
      "grid_column": null,
      "grid_gap": null,
      "grid_row": null,
      "grid_template_areas": null,
      "grid_template_columns": null,
      "grid_template_rows": null,
      "height": null,
      "justify_content": null,
      "justify_items": null,
      "left": null,
      "margin": null,
      "max_height": null,
      "max_width": null,
      "min_height": null,
      "min_width": null,
      "object_fit": null,
      "object_position": null,
      "order": null,
      "overflow": null,
      "overflow_x": null,
      "overflow_y": null,
      "padding": null,
      "right": null,
      "top": null,
      "visibility": null,
      "width": null
     }
    },
    "c6ae0bc684f74884ab5065f788b78b0f": {
     "model_module": "@jupyter-widgets/controls",
     "model_module_version": "1.5.0",
     "model_name": "HTMLModel",
     "state": {
      "_dom_classes": [],
      "_model_module": "@jupyter-widgets/controls",
      "_model_module_version": "1.5.0",
      "_model_name": "HTMLModel",
      "_view_count": null,
      "_view_module": "@jupyter-widgets/controls",
      "_view_module_version": "1.5.0",
      "_view_name": "HTMLView",
      "description": "",
      "description_tooltip": null,
      "layout": "IPY_MODEL_456df8552b464cc8aac87ec3efc3afdd",
      "placeholder": "​",
      "style": "IPY_MODEL_385b6e5058d94feb95e16ca2ad09026e",
      "value": " 125/125 [00:00&lt;00:00, 1.86kB/s]"
     }
    },
    "c95439aaa3b84954a758401ea8b57d34": {
     "model_module": "@jupyter-widgets/controls",
     "model_module_version": "1.5.0",
     "model_name": "FloatProgressModel",
     "state": {
      "_dom_classes": [],
      "_model_module": "@jupyter-widgets/controls",
      "_model_module_version": "1.5.0",
      "_model_name": "FloatProgressModel",
      "_view_count": null,
      "_view_module": "@jupyter-widgets/controls",
      "_view_module_version": "1.5.0",
      "_view_name": "ProgressView",
      "bar_style": "success",
      "description": "",
      "description_tooltip": null,
      "layout": "IPY_MODEL_4f77129738c4450292965e465fe7f9dc",
      "max": 445025130,
      "min": 0,
      "orientation": "horizontal",
      "style": "IPY_MODEL_94e379f9222242cbae95eb764e48bf1f",
      "value": 445025130
     }
    },
    "cc78cbe3b64b4b5bb84ea2f77ba63d8e": {
     "model_module": "@jupyter-widgets/base",
     "model_module_version": "1.2.0",
     "model_name": "LayoutModel",
     "state": {
      "_model_module": "@jupyter-widgets/base",
      "_model_module_version": "1.2.0",
      "_model_name": "LayoutModel",
      "_view_count": null,
      "_view_module": "@jupyter-widgets/base",
      "_view_module_version": "1.2.0",
      "_view_name": "LayoutView",
      "align_content": null,
      "align_items": null,
      "align_self": null,
      "border": null,
      "bottom": null,
      "display": null,
      "flex": null,
      "flex_flow": null,
      "grid_area": null,
      "grid_auto_columns": null,
      "grid_auto_flow": null,
      "grid_auto_rows": null,
      "grid_column": null,
      "grid_gap": null,
      "grid_row": null,
      "grid_template_areas": null,
      "grid_template_columns": null,
      "grid_template_rows": null,
      "height": null,
      "justify_content": null,
      "justify_items": null,
      "left": null,
      "margin": null,
      "max_height": null,
      "max_width": null,
      "min_height": null,
      "min_width": null,
      "object_fit": null,
      "object_position": null,
      "order": null,
      "overflow": null,
      "overflow_x": null,
      "overflow_y": null,
      "padding": null,
      "right": null,
      "top": null,
      "visibility": null,
      "width": null
     }
    },
    "cc8146feee744ceba6ef0f6326df955c": {
     "model_module": "@jupyter-widgets/controls",
     "model_module_version": "1.5.0",
     "model_name": "HTMLModel",
     "state": {
      "_dom_classes": [],
      "_model_module": "@jupyter-widgets/controls",
      "_model_module_version": "1.5.0",
      "_model_name": "HTMLModel",
      "_view_count": null,
      "_view_module": "@jupyter-widgets/controls",
      "_view_module_version": "1.5.0",
      "_view_name": "HTMLView",
      "description": "",
      "description_tooltip": null,
      "layout": "IPY_MODEL_d8b3ec14287a40bb8565a44925d36215",
      "placeholder": "​",
      "style": "IPY_MODEL_f680c08f97f7467291a740b66ee2df7f",
      "value": " 289/289 [00:00&lt;00:00, 5.63kB/s]"
     }
    },
    "d86996c44be3472096c2a64cb57f9a56": {
     "model_module": "@jupyter-widgets/base",
     "model_module_version": "1.2.0",
     "model_name": "LayoutModel",
     "state": {
      "_model_module": "@jupyter-widgets/base",
      "_model_module_version": "1.2.0",
      "_model_name": "LayoutModel",
      "_view_count": null,
      "_view_module": "@jupyter-widgets/base",
      "_view_module_version": "1.2.0",
      "_view_name": "LayoutView",
      "align_content": null,
      "align_items": null,
      "align_self": null,
      "border": null,
      "bottom": null,
      "display": null,
      "flex": null,
      "flex_flow": null,
      "grid_area": null,
      "grid_auto_columns": null,
      "grid_auto_flow": null,
      "grid_auto_rows": null,
      "grid_column": null,
      "grid_gap": null,
      "grid_row": null,
      "grid_template_areas": null,
      "grid_template_columns": null,
      "grid_template_rows": null,
      "height": null,
      "justify_content": null,
      "justify_items": null,
      "left": null,
      "margin": null,
      "max_height": null,
      "max_width": null,
      "min_height": null,
      "min_width": null,
      "object_fit": null,
      "object_position": null,
      "order": null,
      "overflow": null,
      "overflow_x": null,
      "overflow_y": null,
      "padding": null,
      "right": null,
      "top": null,
      "visibility": null,
      "width": null
     }
    },
    "d8b3ec14287a40bb8565a44925d36215": {
     "model_module": "@jupyter-widgets/base",
     "model_module_version": "1.2.0",
     "model_name": "LayoutModel",
     "state": {
      "_model_module": "@jupyter-widgets/base",
      "_model_module_version": "1.2.0",
      "_model_name": "LayoutModel",
      "_view_count": null,
      "_view_module": "@jupyter-widgets/base",
      "_view_module_version": "1.2.0",
      "_view_name": "LayoutView",
      "align_content": null,
      "align_items": null,
      "align_self": null,
      "border": null,
      "bottom": null,
      "display": null,
      "flex": null,
      "flex_flow": null,
      "grid_area": null,
      "grid_auto_columns": null,
      "grid_auto_flow": null,
      "grid_auto_rows": null,
      "grid_column": null,
      "grid_gap": null,
      "grid_row": null,
      "grid_template_areas": null,
      "grid_template_columns": null,
      "grid_template_rows": null,
      "height": null,
      "justify_content": null,
      "justify_items": null,
      "left": null,
      "margin": null,
      "max_height": null,
      "max_width": null,
      "min_height": null,
      "min_width": null,
      "object_fit": null,
      "object_position": null,
      "order": null,
      "overflow": null,
      "overflow_x": null,
      "overflow_y": null,
      "padding": null,
      "right": null,
      "top": null,
      "visibility": null,
      "width": null
     }
    },
    "d93b862729c5404c8b0ff3c315eeb527": {
     "model_module": "@jupyter-widgets/controls",
     "model_module_version": "1.5.0",
     "model_name": "DescriptionStyleModel",
     "state": {
      "_model_module": "@jupyter-widgets/controls",
      "_model_module_version": "1.5.0",
      "_model_name": "DescriptionStyleModel",
      "_view_count": null,
      "_view_module": "@jupyter-widgets/base",
      "_view_module_version": "1.2.0",
      "_view_name": "StyleView",
      "description_width": ""
     }
    },
    "dd9dbf337cdd467b9c5c37e6eae4c015": {
     "model_module": "@jupyter-widgets/controls",
     "model_module_version": "1.5.0",
     "model_name": "FloatProgressModel",
     "state": {
      "_dom_classes": [],
      "_model_module": "@jupyter-widgets/controls",
      "_model_module_version": "1.5.0",
      "_model_name": "FloatProgressModel",
      "_view_count": null,
      "_view_module": "@jupyter-widgets/controls",
      "_view_module_version": "1.5.0",
      "_view_name": "ProgressView",
      "bar_style": "success",
      "description": "",
      "description_tooltip": null,
      "layout": "IPY_MODEL_314195c0fecb424994dde1fa9987fe5e",
      "max": 125,
      "min": 0,
      "orientation": "horizontal",
      "style": "IPY_MODEL_13356c33bf264e6296e7d72d8d3989cc",
      "value": 125
     }
    },
    "def18f6d71004f43996a6fb1e5f49e6c": {
     "model_module": "@jupyter-widgets/base",
     "model_module_version": "1.2.0",
     "model_name": "LayoutModel",
     "state": {
      "_model_module": "@jupyter-widgets/base",
      "_model_module_version": "1.2.0",
      "_model_name": "LayoutModel",
      "_view_count": null,
      "_view_module": "@jupyter-widgets/base",
      "_view_module_version": "1.2.0",
      "_view_name": "LayoutView",
      "align_content": null,
      "align_items": null,
      "align_self": null,
      "border": null,
      "bottom": null,
      "display": null,
      "flex": null,
      "flex_flow": null,
      "grid_area": null,
      "grid_auto_columns": null,
      "grid_auto_flow": null,
      "grid_auto_rows": null,
      "grid_column": null,
      "grid_gap": null,
      "grid_row": null,
      "grid_template_areas": null,
      "grid_template_columns": null,
      "grid_template_rows": null,
      "height": null,
      "justify_content": null,
      "justify_items": null,
      "left": null,
      "margin": null,
      "max_height": null,
      "max_width": null,
      "min_height": null,
      "min_width": null,
      "object_fit": null,
      "object_position": null,
      "order": null,
      "overflow": null,
      "overflow_x": null,
      "overflow_y": null,
      "padding": null,
      "right": null,
      "top": null,
      "visibility": null,
      "width": null
     }
    },
    "e068c86dd3924710913066e1e1b99332": {
     "model_module": "@jupyter-widgets/controls",
     "model_module_version": "1.5.0",
     "model_name": "ProgressStyleModel",
     "state": {
      "_model_module": "@jupyter-widgets/controls",
      "_model_module_version": "1.5.0",
      "_model_name": "ProgressStyleModel",
      "_view_count": null,
      "_view_module": "@jupyter-widgets/base",
      "_view_module_version": "1.2.0",
      "_view_name": "StyleView",
      "bar_color": null,
      "description_width": ""
     }
    },
    "e1cb867f7d294346b2dd3beb6ce22de8": {
     "model_module": "@jupyter-widgets/base",
     "model_module_version": "1.2.0",
     "model_name": "LayoutModel",
     "state": {
      "_model_module": "@jupyter-widgets/base",
      "_model_module_version": "1.2.0",
      "_model_name": "LayoutModel",
      "_view_count": null,
      "_view_module": "@jupyter-widgets/base",
      "_view_module_version": "1.2.0",
      "_view_name": "LayoutView",
      "align_content": null,
      "align_items": null,
      "align_self": null,
      "border": null,
      "bottom": null,
      "display": null,
      "flex": null,
      "flex_flow": null,
      "grid_area": null,
      "grid_auto_columns": null,
      "grid_auto_flow": null,
      "grid_auto_rows": null,
      "grid_column": null,
      "grid_gap": null,
      "grid_row": null,
      "grid_template_areas": null,
      "grid_template_columns": null,
      "grid_template_rows": null,
      "height": null,
      "justify_content": null,
      "justify_items": null,
      "left": null,
      "margin": null,
      "max_height": null,
      "max_width": null,
      "min_height": null,
      "min_width": null,
      "object_fit": null,
      "object_position": null,
      "order": null,
      "overflow": null,
      "overflow_x": null,
      "overflow_y": null,
      "padding": null,
      "right": null,
      "top": null,
      "visibility": null,
      "width": null
     }
    },
    "e3fb5a9905f742d8890fe59d3cb4074e": {
     "model_module": "@jupyter-widgets/base",
     "model_module_version": "1.2.0",
     "model_name": "LayoutModel",
     "state": {
      "_model_module": "@jupyter-widgets/base",
      "_model_module_version": "1.2.0",
      "_model_name": "LayoutModel",
      "_view_count": null,
      "_view_module": "@jupyter-widgets/base",
      "_view_module_version": "1.2.0",
      "_view_name": "LayoutView",
      "align_content": null,
      "align_items": null,
      "align_self": null,
      "border": null,
      "bottom": null,
      "display": null,
      "flex": null,
      "flex_flow": null,
      "grid_area": null,
      "grid_auto_columns": null,
      "grid_auto_flow": null,
      "grid_auto_rows": null,
      "grid_column": null,
      "grid_gap": null,
      "grid_row": null,
      "grid_template_areas": null,
      "grid_template_columns": null,
      "grid_template_rows": null,
      "height": null,
      "justify_content": null,
      "justify_items": null,
      "left": null,
      "margin": null,
      "max_height": null,
      "max_width": null,
      "min_height": null,
      "min_width": null,
      "object_fit": null,
      "object_position": null,
      "order": null,
      "overflow": null,
      "overflow_x": null,
      "overflow_y": null,
      "padding": null,
      "right": null,
      "top": null,
      "visibility": null,
      "width": null
     }
    },
    "f34e6414d8eb4b509e476a3685ba2526": {
     "model_module": "@jupyter-widgets/controls",
     "model_module_version": "1.5.0",
     "model_name": "DescriptionStyleModel",
     "state": {
      "_model_module": "@jupyter-widgets/controls",
      "_model_module_version": "1.5.0",
      "_model_name": "DescriptionStyleModel",
      "_view_count": null,
      "_view_module": "@jupyter-widgets/base",
      "_view_module_version": "1.2.0",
      "_view_name": "StyleView",
      "description_width": ""
     }
    },
    "f66d9ba367034530b46f0c31b88806a2": {
     "model_module": "@jupyter-widgets/controls",
     "model_module_version": "1.5.0",
     "model_name": "HTMLModel",
     "state": {
      "_dom_classes": [],
      "_model_module": "@jupyter-widgets/controls",
      "_model_module_version": "1.5.0",
      "_model_name": "HTMLModel",
      "_view_count": null,
      "_view_module": "@jupyter-widgets/controls",
      "_view_module_version": "1.5.0",
      "_view_name": "HTMLView",
      "description": "",
      "description_tooltip": null,
      "layout": "IPY_MODEL_e3fb5a9905f742d8890fe59d3cb4074e",
      "placeholder": "​",
      "style": "IPY_MODEL_f34e6414d8eb4b509e476a3685ba2526",
      "value": "Downloading: 100%"
     }
    },
    "f680c08f97f7467291a740b66ee2df7f": {
     "model_module": "@jupyter-widgets/controls",
     "model_module_version": "1.5.0",
     "model_name": "DescriptionStyleModel",
     "state": {
      "_model_module": "@jupyter-widgets/controls",
      "_model_module_version": "1.5.0",
      "_model_name": "DescriptionStyleModel",
      "_view_count": null,
      "_view_module": "@jupyter-widgets/base",
      "_view_module_version": "1.2.0",
      "_view_name": "StyleView",
      "description_width": ""
     }
    },
    "f9c3945c1311441191e09eca5815cb60": {
     "model_module": "@jupyter-widgets/controls",
     "model_module_version": "1.5.0",
     "model_name": "ProgressStyleModel",
     "state": {
      "_model_module": "@jupyter-widgets/controls",
      "_model_module_version": "1.5.0",
      "_model_name": "ProgressStyleModel",
      "_view_count": null,
      "_view_module": "@jupyter-widgets/base",
      "_view_module_version": "1.2.0",
      "_view_name": "StyleView",
      "bar_color": null,
      "description_width": ""
     }
    },
    "fdbbb63a10b34bb1ad9b4d114fe6ae2b": {
     "model_module": "@jupyter-widgets/base",
     "model_module_version": "1.2.0",
     "model_name": "LayoutModel",
     "state": {
      "_model_module": "@jupyter-widgets/base",
      "_model_module_version": "1.2.0",
      "_model_name": "LayoutModel",
      "_view_count": null,
      "_view_module": "@jupyter-widgets/base",
      "_view_module_version": "1.2.0",
      "_view_name": "LayoutView",
      "align_content": null,
      "align_items": null,
      "align_self": null,
      "border": null,
      "bottom": null,
      "display": null,
      "flex": null,
      "flex_flow": null,
      "grid_area": null,
      "grid_auto_columns": null,
      "grid_auto_flow": null,
      "grid_auto_rows": null,
      "grid_column": null,
      "grid_gap": null,
      "grid_row": null,
      "grid_template_areas": null,
      "grid_template_columns": null,
      "grid_template_rows": null,
      "height": null,
      "justify_content": null,
      "justify_items": null,
      "left": null,
      "margin": null,
      "max_height": null,
      "max_width": null,
      "min_height": null,
      "min_width": null,
      "object_fit": null,
      "object_position": null,
      "order": null,
      "overflow": null,
      "overflow_x": null,
      "overflow_y": null,
      "padding": null,
      "right": null,
      "top": null,
      "visibility": null,
      "width": null
     }
    }
   }
  }
 },
 "nbformat": 4,
 "nbformat_minor": 4
}
