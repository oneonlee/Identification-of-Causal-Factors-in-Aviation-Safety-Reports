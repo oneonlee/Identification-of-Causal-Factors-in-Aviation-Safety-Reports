{
 "cells": [
  {
   "cell_type": "code",
   "execution_count": 1,
   "id": "f2b8077a-b8c7-4f29-8a69-e4ffa8aae761",
   "metadata": {},
   "outputs": [],
   "source": [
    "import os\n",
    "import sys\n",
    "module_path = \"..\"\n",
    "sys.path.append(module_path)\n",
    "\n",
    "from dataset_preprocessing import make_keyphrase_dataset, make_bio_tagged_dataset"
   ]
  },
  {
   "cell_type": "code",
   "execution_count": 2,
   "id": "07b6d651-c726-4652-825c-b67a2a29c0d4",
   "metadata": {},
   "outputs": [],
   "source": [
    "from tqdm import tqdm\n",
    "import re\n",
    "import pandas as pd\n",
    "from sklearn.metrics import f1_score, precision_score, recall_score, classification_report"
   ]
  },
  {
   "cell_type": "code",
   "execution_count": 3,
   "id": "707d74e1-2c80-4c6e-a6d4-b158b2770795",
   "metadata": {},
   "outputs": [],
   "source": [
    "MODEL_NAME = \"KeyBERT\""
   ]
  },
  {
   "cell_type": "code",
   "execution_count": 4,
   "id": "6cf96611-ded3-43c7-9d03-65fa79c7bfa3",
   "metadata": {},
   "outputs": [],
   "source": [
    "def process_doc(doc):\n",
    "    processed_doc = doc.strip('\"').replace(\"\\n\", \" \").strip()\n",
    "    processed_doc = re.sub('\\s+', ' ', processed_doc)\n",
    "    \n",
    "    return processed_doc\n",
    "\n",
    "def process_label(text):\n",
    "    processed_text = text.strip('\"').replace(\"\\n\", \" \").strip()\n",
    "    processed_text = re.sub('\\s+', ' ', processed_text)\n",
    "\n",
    "    return processed_text"
   ]
  },
  {
   "cell_type": "code",
   "execution_count": 5,
   "id": "a5b348f8-5a2d-461d-9dee-718c2704de67",
   "metadata": {},
   "outputs": [],
   "source": [
    "prediction = pd.read_csv(f\"KeySRoBERTa.csv\")"
   ]
  },
  {
   "cell_type": "code",
   "execution_count": 6,
   "id": "726d0566-aff0-44fe-8296-a8b7db730542",
   "metadata": {},
   "outputs": [],
   "source": [
    "documents = prediction[\"본문\"]\n",
    "gold_standards = prediction[\"원인 키워드\"]\n",
    "model_predictions = prediction[f\"{MODEL_NAME} 예측 키워드\"]"
   ]
  },
  {
   "cell_type": "code",
   "execution_count": 7,
   "id": "9c054686-8eeb-4419-9b84-dd766fdccfa8",
   "metadata": {},
   "outputs": [],
   "source": [
    "for i in range(len(prediction)):\n",
    "    prediction[\"원인 키워드\"][i] = prediction[\"원인 키워드\"][i]"
   ]
  },
  {
   "cell_type": "code",
   "execution_count": 8,
   "id": "fd2dce16-96fe-422b-94b5-9f71683d9af4",
   "metadata": {},
   "outputs": [
    {
     "data": {
      "text/plain": [
       "0      \"F로 잘못 인지하여(실제 Z2에서 Z3로 연결되는 부분이 F 방향과\", \"에는 직...\n",
       "1      \"지상 활주 중 속도지시계 이상으로 RAMP RETURN하여 점검\", \"항공기가 P...\n",
       "2      \"상태에서 ATC의 Left Turn SZ를 받고 지시에\", \"회항 과정에서 Fli...\n",
       "3      \"후 route set up함. 이륙 후 ANLOC 1C절차를 따라 좌선회\", \"A...\n",
       "4      \"오후에 이륙하여 일본지역의 공항으로 접근을 위해 기수(heading) 140을 유...\n",
       "                             ...                        \n",
       "214    \"POINT RWY 02 VIA B'을 주어 차트를 확인하였다. 주기장에서 TAXI...\n",
       "215    \"Cockpit를 점검하는 사이에 승객은 탑승이 완료되었으나, Cockpit 준비가...\n",
       "216    \"했다. 여러 번 반복한 끝에 항공기는 정상 상태가\", \"후에야 Gear Door가...\n",
       "217    \"대체공항으로 회항하기로 결정했다. 관제기 관에 회항하겠다고 통보하였으나\", \"대체...\n",
       "218    \"계기비행계획으로 마닐라를 출발, 서울을 향했다. FL370에서\", \"우리 항공기를...\n",
       "Name: KeyBERT 예측 키워드, Length: 219, dtype: object"
      ]
     },
     "execution_count": 8,
     "metadata": {},
     "output_type": "execute_result"
    }
   ],
   "source": [
    "model_predictions"
   ]
  },
  {
   "cell_type": "code",
   "execution_count": 9,
   "id": "9e10e7e4-abf6-4a70-8cdf-785c08f56e8e",
   "metadata": {},
   "outputs": [
    {
     "data": {
      "text/plain": [
       "['Z3를 F로 잘못 인지하여', '최종 확인을 한 후 진입을 했어야 하나, 확인 미흡', '승무원 상호 간 CRM 부족']"
      ]
     },
     "execution_count": 9,
     "metadata": {},
     "output_type": "execute_result"
    }
   ],
   "source": [
    "gold_labels = [process_label(label) for label in prediction[\"원인 키워드\"][0].split('\", \"')]\n",
    "gold_labels"
   ]
  },
  {
   "cell_type": "code",
   "execution_count": 10,
   "id": "243d4344-6aa6-4c51-beed-b2a67f1ec673",
   "metadata": {},
   "outputs": [
    {
     "name": "stderr",
     "output_type": "stream",
     "text": [
      "100% 219/219 [00:00<00:00, 3876.31it/s]\n",
      "100% 219/219 [00:00<00:00, 4747.63it/s]\n",
      "100% 219/219 [00:02<00:00, 88.21it/s] \n",
      "100% 219/219 [00:04<00:00, 52.33it/s]\n"
     ]
    }
   ],
   "source": [
    "gold_standard_kp_dataset = make_keyphrase_dataset(prediction, col_name=\"원인 키워드\")\n",
    "model_prediction_kp_dataset = make_keyphrase_dataset(prediction, col_name=f\"{MODEL_NAME} 예측 키워드\", ignore_duplication_error=True)\n",
    "\n",
    "bio_tagged_gold_standard = make_bio_tagged_dataset(gold_standard_kp_dataset)\n",
    "bio_tagged_model_prediction = make_bio_tagged_dataset(model_prediction_kp_dataset)\n",
    "\n",
    "bio_tagged_gold_standard = bio_tagged_gold_standard.replace(to_replace=\"B-causal factor\", value=\"key\").replace(to_replace=\"I-causal factor\", value=\"key\")\n",
    "bio_tagged_model_prediction = bio_tagged_model_prediction.replace(to_replace=\"B-causal factor\", value=\"key\").replace(to_replace=\"I-causal factor\", value=\"key\")"
   ]
  },
  {
   "cell_type": "code",
   "execution_count": 11,
   "id": "bd05704a-9148-4705-9ac7-740b4656a9a3",
   "metadata": {},
   "outputs": [
    {
     "name": "stdout",
     "output_type": "stream",
     "text": [
      "Start Evaluation of KeyBERT model\n",
      "\n",
      "precision_score\n",
      "0.6885814313606679\n",
      "0.483133415526248\n",
      "0.7407085706422172\n",
      "[0.84679917 0.11946766]\n",
      "0.1194676570721139\n",
      "\n",
      "recall_score\n",
      "0.6885814313606679\n",
      "0.4769567114729473\n",
      "0.6885814313606679\n",
      "[0.77574587 0.17816755]\n",
      "0.17816755135010384\n",
      "\n",
      "f1_score\n",
      "0.6885814313606679\n",
      "0.4763729729581932\n",
      "0.7124718553434753\n",
      "[0.80971677 0.14302918]\n",
      "0.1430291801760074\n"
     ]
    }
   ],
   "source": [
    "if len(bio_tagged_gold_standard) == len(bio_tagged_model_prediction):\n",
    "    print(f\"Start Evaluation of {MODEL_NAME} model\")\n",
    "    \n",
    "    print()\n",
    "    \n",
    "    print(\"precision_score\")\n",
    "    print(precision_score(bio_tagged_gold_standard[\"tag\"], bio_tagged_model_prediction[\"tag\"], average=\"micro\"))\n",
    "    print(precision_score(bio_tagged_gold_standard[\"tag\"], bio_tagged_model_prediction[\"tag\"], average=\"macro\"))\n",
    "    print(precision_score(bio_tagged_gold_standard[\"tag\"], bio_tagged_model_prediction[\"tag\"], average=\"weighted\"))\n",
    "    print(precision_score(bio_tagged_gold_standard[\"tag\"], bio_tagged_model_prediction[\"tag\"], average=None))\n",
    "    print(precision_score(bio_tagged_gold_standard[\"tag\"], bio_tagged_model_prediction[\"tag\"], average='micro', labels=[\"key\"]))\n",
    "    \n",
    "    print()\n",
    "    \n",
    "    print(\"recall_score\")\n",
    "    print(recall_score(bio_tagged_gold_standard[\"tag\"], bio_tagged_model_prediction[\"tag\"], average=\"micro\"))\n",
    "    print(recall_score(bio_tagged_gold_standard[\"tag\"], bio_tagged_model_prediction[\"tag\"], average=\"macro\"))\n",
    "    print(recall_score(bio_tagged_gold_standard[\"tag\"], bio_tagged_model_prediction[\"tag\"], average=\"weighted\"))\n",
    "    print(recall_score(bio_tagged_gold_standard[\"tag\"], bio_tagged_model_prediction[\"tag\"], average=None))\n",
    "    print(recall_score(bio_tagged_gold_standard[\"tag\"], bio_tagged_model_prediction[\"tag\"], average='micro', labels=[\"key\"]))\n",
    "    \n",
    "    print()\n",
    "\n",
    "    print(\"f1_score\")\n",
    "    print(f1_score(bio_tagged_gold_standard[\"tag\"], bio_tagged_model_prediction[\"tag\"], average=\"micro\"))\n",
    "    print(f1_score(bio_tagged_gold_standard[\"tag\"], bio_tagged_model_prediction[\"tag\"], average=\"macro\"))\n",
    "    print(f1_score(bio_tagged_gold_standard[\"tag\"], bio_tagged_model_prediction[\"tag\"], average=\"weighted\"))\n",
    "    print(f1_score(bio_tagged_gold_standard[\"tag\"], bio_tagged_model_prediction[\"tag\"], average=None))\n",
    "    print(f1_score(bio_tagged_gold_standard[\"tag\"], bio_tagged_model_prediction[\"tag\"], average='micro', labels=[\"key\"]))"
   ]
  }
 ],
 "metadata": {
  "kernelspec": {
   "display_name": "Python 3 (ipykernel)",
   "language": "python",
   "name": "python3"
  },
  "language_info": {
   "codemirror_mode": {
    "name": "ipython",
    "version": 3
   },
   "file_extension": ".py",
   "mimetype": "text/x-python",
   "name": "python",
   "nbconvert_exporter": "python",
   "pygments_lexer": "ipython3",
   "version": "3.8.10"
  }
 },
 "nbformat": 4,
 "nbformat_minor": 5
}
